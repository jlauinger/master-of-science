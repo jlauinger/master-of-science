{
 "cells": [
  {
   "cell_type": "code",
   "execution_count": 147,
   "metadata": {},
   "outputs": [],
   "source": [
    "import numpy as np\n",
    "import pandas as pd\n",
    "from matplotlib import pyplot as plt\n",
    "\n",
    "import json\n",
    "import re\n",
    "from datetime import datetime\n",
    "import random\n",
    "\n",
    "from sklearn.cluster import KMeans\n",
    "from sklearn.feature_extraction import DictVectorizer\n",
    "\n",
    "import nltk\n",
    "\n",
    "from difflib import SequenceMatcher"
   ]
  },
  {
   "cell_type": "code",
   "execution_count": 26,
   "metadata": {},
   "outputs": [],
   "source": [
    "np.random.seed(42)"
   ]
  },
  {
   "cell_type": "code",
   "execution_count": 3,
   "metadata": {},
   "outputs": [],
   "source": [
    "grep_df = pd.read_csv('/root/data/lexical/grep_findings_0_499.csv')"
   ]
  },
  {
   "cell_type": "code",
   "execution_count": 204,
   "metadata": {},
   "outputs": [
    {
     "data": {
      "text/plain": [
       "['\\t\\thexdumpWords(b, b+n, func(p uintptr) byte {\\n',\n",
       " '\\t\\t\\t\\td1.pc = frame.fn.entry + uintptr(frame.fn.deferreturn)\\n',\n",
       " '\\tadjustpointer(adjinfo, unsafe.Pointer(&gp.sched.bp))\\n',\n",
       " 'func makeheapobjbv(p uintptr, size uintptr) bitvector {\\n',\n",
       " \"// Package reflect's Value methods named Pointer and UnsafeAddr return type uintptr\\n\",\n",
       " 'func (fd *FD) RawRead(f func(uintptr) bool) error {\\n',\n",
       " '\\treturn strhash(noescape(unsafe.Pointer(&s)), seed)\\n',\n",
       " '\\tsearchAddr uintptr\\n',\n",
       " 'func (v Value) pointer() unsafe.Pointer {\\n',\n",
       " '\\t\\tmheap_.specialprofilealloc.free(unsafe.Pointer(sp))\\n',\n",
       " '\\tif len(x) > 4 && datap.etext <= uintptr(str.str) && uintptr(str.str) < datap.end {\\n',\n",
       " '\\t\\tuadd += unsafe.Sizeof(uncommontype{})\\n',\n",
       " '\\t\\t\\t\\t\\tunsafe.Offsetof(finalizer{}.ot) != 4*sys.PtrSize) {\\n',\n",
       " '\\t\\tval := *(*uintptr)(unsafe.Pointer(p + i))\\n',\n",
       " '// so not all have these arguments. Mark them uintptr so that the GC\\n',\n",
       " '\\t_, _, e1 := Syscall(SYS_KEYCTL, uintptr(cmd), uintptr(arg2), 0)\\n',\n",
       " 'func netpolldeadlineimpl(pd *pollDesc, seq uintptr, read, write bool) {\\n',\n",
       " 'func reflectlite_resolveTypeOff(rtype unsafe.Pointer, off int32) unsafe.Pointer {\\n',\n",
       " '// Converting a Pointer to a uintptr creates an integer value\\n',\n",
       " '\\tif _g_ := getg(); _g_.m.curg.stack.lo <= uintptr(p) && uintptr(p) < _g_.m.curg.stack.hi {\\n',\n",
       " '\\tt := (*interfaceType)(unsafe.Pointer(T))\\n',\n",
       " 'func (t *rtype) textOff(off textOff) unsafe.Pointer {\\n',\n",
       " '\\tp1 := func(x uintptr) {\\n',\n",
       " 'func ptrace(request int, pid int, addr uintptr, data uintptr) (err error) {\\n',\n",
       " '\\t\\t\\t\\tif !p.gcBgMarkWorker.cas(0, guintptr(unsafe.Pointer(g))) {\\n',\n",
       " '\\t\\t\\tvar p uintptr\\n',\n",
       " '\\tstsp := uintptr(unsafe.Pointer(st.ss_sp))\\n',\n",
       " '\\tbuckets    unsafe.Pointer // array of 2^B Buckets. may be nil if count==0.\\n',\n",
       " '\\t_, _, e1 := Syscall(SYS_ACCT, uintptr(unsafe.Pointer(_p0)), 0, 0)\\n',\n",
       " '\\treturn sync_atomic_CompareAndSwapUintptr((*uintptr)(noescape(unsafe.Pointer(ptr))), uintptr(old), uintptr(new))\\n',\n",
       " '\\t\\tdumpint(uint64(uintptr(unsafe.Pointer(eface._type))))\\n',\n",
       " 'func newarray(typ *_type, n int) unsafe.Pointer {\\n',\n",
       " '\\told := unsafe.Pointer(sync_atomic_SwapUintptr((*uintptr)(noescape(unsafe.Pointer(ptr))), uintptr(new)))\\n',\n",
       " '\\tr0, _, e1 := Syscall(SYS_LISTXATTR, uintptr(unsafe.Pointer(_p0)), uintptr(_p1), uintptr(len(dest)))\\n',\n",
       " 'func LoadUintptr(addr *uintptr) (val uintptr)\\n',\n",
       " '\\t\\t\\tr1, _, err1 = RawSyscall(SYS_WRITE, uintptr(fd1), uintptr(unsafe.Pointer(&gidmap[0])), uintptr(len(gidmap)))\\n',\n",
       " '\\t\\t\\t\\tmv = (*reflectMethodValue)(unsafe.Pointer(ctxt))\\n',\n",
       " '\\thdrsize uintptr\\n',\n",
       " '\\tr0, _, e1 := Syscall(SYS_POLL, uintptr(unsafe.Pointer(fds)), uintptr(nfds), uintptr(timeout))\\n',\n",
       " 'func Casp1(ptr *unsafe.Pointer, old, new unsafe.Pointer) bool\\n',\n",
       " '\\tspanBytes := uintptr(class_to_allocnpages[c.spanclass.sizeclass()]) * _PageSize\\n',\n",
       " '\\t\\t\\ta1: uintptr(size),\\n',\n",
       " '\\t\\tuintptr(unsafe.Pointer(&p[0])),\\n',\n",
       " 'func StorepNoWB(ptr unsafe.Pointer, val unsafe.Pointer)\\n',\n",
       " '\\t\\targsize uintptr\\n',\n",
       " '\\tr0, _, e1 := Syscall6(SYS_SELECT, uintptr(nfd), uintptr(unsafe.Pointer(r)), uintptr(unsafe.Pointer(w)), uintptr(unsafe.Pointer(e)), uintptr(unsafe.Pointer(timeout)), 0)\\n',\n",
       " '\\t\\t\\tif datap.noptrdata <= uintptr(e.data) && uintptr(e.data) < datap.enoptrdata ||\\n',\n",
       " 'func StorepNoWB(ptr unsafe.Pointer, val unsafe.Pointer)\\n',\n",
       " '\\tatomic.Storeuintptr(&extram, uintptr(unsafe.Pointer(mp)))\\n',\n",
       " 'func rawSyscallNoError(trap, a1, a2, a3 uintptr) (r1, r2 uintptr)\\n',\n",
       " 'func Syscall6(trap, a1, a2, a3, a4, a5, a6 uintptr) (r1, r2 uintptr, err syscall.Errno)\\n',\n",
       " 'func (c *sigctxt) sigpc() uintptr { return uintptr(c.rip()) }\\n',\n",
       " '\\th.spanalloc.init(unsafe.Sizeof(mspan{}), recordspan, unsafe.Pointer(h), &memstats.mspan_sys)\\n',\n",
       " '\\t\\t\\tfor special != nil && uintptr(special.offset) < endOffset {\\n',\n",
       " '\\t_, _, e1 := Syscall6(SYS_NAME_TO_HANDLE_AT, uintptr(dirFD), uintptr(unsafe.Pointer(_p0)), uintptr(unsafe.Pointer(fh)), uintptr(unsafe.Pointer(mountID)), uintptr(flags), 0)\\n',\n",
       " '\\t\\t*k.ptr = info.loadOffset + uintptr(sym.st_value)\\n',\n",
       " '\\t\\tpp := (*RawSockaddrUnix)(unsafe.Pointer(rsa))\\n',\n",
       " '\\tp unsafe.Pointer\\n',\n",
       " '\\t\\t_p0 = unsafe.Pointer(&_zero)\\n',\n",
       " '\\t\\t\\t\\tp = uintptr(i)<<40 | uintptrMask&(0xa0<<52)\\n',\n",
       " '\\t\\t\\t\\tp := s.base() + uintptr(special.offset)\\n',\n",
       " '\\t\\tspineLen = atomic.Loaduintptr(&b.spineLen)\\n',\n",
       " '\\t_, _, e1 := Syscall(SYS_MUNLOCK, uintptr(_p0), uintptr(len(b)), 0)\\n',\n",
       " '\\t_, _, e1 := Syscall6(SYS_UTIMENSAT, uintptr(dirfd), uintptr(unsafe.Pointer(_p0)), uintptr(unsafe.Pointer(times)), uintptr(flag), 0, 0)\\n',\n",
       " '\\t\\tbulkBarrierPreWrite(uintptr(dstp), uintptr(srcp), size)\\n',\n",
       " '\\tvar inserti uintptr\\n',\n",
       " '\\tr0, _, e1 := RawSyscall(SYS_INOTIFY_RM_WATCH, uintptr(fd), uintptr(watchdesc), 0)\\n',\n",
       " 'func gentraceback(pc0, sp0, lr0 uintptr, gp *g, skip int, pcbuf *uintptr, max int, callback func(*stkframe, unsafe.Pointer) bool, v unsafe.Pointer, flags uint) int {\\n',\n",
       " '\\tn := uintptr(rootBlockBytes)\\n',\n",
       " '\\t\\ttt := (*arrayType)(unsafe.Pointer(v.typ))\\n',\n",
       " '\\t\\tfor i, k := uintptr(0), b.keys(); i < bucketCnt; i, k = i+1, add(k, 8) {\\n',\n",
       " '\\t\\td._panic = (*_panic)(noescape(unsafe.Pointer(&p)))\\n',\n",
       " '\\t*(*uint16)(unsafe.Pointer(&b[6:8][0])) = rr.Header.Flags\\n',\n",
       " 'const ptrSize = 4 << (^uintptr(0) >> 63) // unsafe.Sizeof(uintptr(0)) but an ideal const\\n',\n",
       " '\\tnext uintptr // *gcBits triggers recursive type bug. (issue 14620)\\n',\n",
       " '\\t\\tmsanwrite(unsafe.Pointer(new), unsafe.Sizeof(*new))\\n',\n",
       " '\\t\\ts := spanOfUnchecked(uintptr(v))\\n',\n",
       " '\\t_, _, e1 := Syscall6(SYS_REBOOT, uintptr(magic1), uintptr(magic2), uintptr(cmd), uintptr(unsafe.Pointer(_p0)), 0, 0)\\n',\n",
       " '// The guintptr, muintptr, and puintptr are all used to bypass write barriers.\\n',\n",
       " '\\tatomic.StorePointer((*unsafe.Pointer)(unsafe.Pointer(p)), unsafe.Pointer(v))\\n',\n",
       " 'func msanRead(addr unsafe.Pointer, len int) {\\n',\n",
       " '\\t_, _, e1 := Syscall6(SYS_CLOCK_NANOSLEEP, uintptr(clockid), uintptr(flags), uintptr(unsafe.Pointer(request)), uintptr(unsafe.Pointer(remain)), 0, 0)\\n',\n",
       " '\\tbuckets    unsafe.Pointer // array of 2^B Buckets. may be nil if count==0.\\n',\n",
       " '\\t\\tmsanwrite(unsafe.Pointer(&arg), unsafe.Sizeof(arg))\\n',\n",
       " '\\t_, _, e1 := Syscall(SYS_UNLINKAT, uintptr(dirfd), uintptr(unsafe.Pointer(_p0)), uintptr(flags))\\n',\n",
       " '\\tnetpollBreakRd = uintptr(r)\\n',\n",
       " '\\t\\t\\t\\toff := (uintptr(p) + i - datap.data) / sys.PtrSize\\n',\n",
       " 'func add(p unsafe.Pointer, x uintptr) unsafe.Pointer {\\n',\n",
       " '\\tctxt unsafe.Pointer\\n',\n",
       " '\\tif unsafe.Sizeof(f) != 4 {\\n',\n",
       " 'func (s *stackScanState) putPtr(p uintptr, conservative bool) {\\n',\n",
       " 'func (b *pallocBits) find(npages uintptr, searchIdx uint) (uint, uint) {\\n',\n",
       " '\\tr0, _, e1 := Syscall6(SYS_EPOLL_WAIT, uintptr(epfd), uintptr(_p0), uintptr(len(events)), uintptr(msec), 0, 0)\\n',\n",
       " '\\t\\tdef = (*elfVerdef)(add(unsafe.Pointer(def), uintptr(def.vd_next)))\\n',\n",
       " '\\treturn setsockopt(fd, level, opt, unsafe.Pointer(mreq), SizeofIPMreq)\\n',\n",
       " '\\treturn setsockopt(fd, SOL_SOCKET, SO_ATTACH_FILTER, unsafe.Pointer(&p), unsafe.Sizeof(p))\\n',\n",
       " '\\tnewg.sched.g = guintptr(unsafe.Pointer(newg))\\n',\n",
       " '\\tt := (*itabTableType)(atomic.Loadp(unsafe.Pointer(&itabTable)))\\n',\n",
       " '\\twaitlock      unsafe.Pointer\\n',\n",
       " '\\tm.fun[0] = uintptr(fun0)\\n']"
      ]
     },
     "execution_count": 204,
     "metadata": {},
     "output_type": "execute_result"
    }
   ],
   "source": [
    "snippets = random.choices(grep_df['text'], k=100)\n",
    "snippets"
   ]
  },
  {
   "cell_type": "markdown",
   "metadata": {},
   "source": [
    "## Extract Features"
   ]
  },
  {
   "cell_type": "code",
   "execution_count": 86,
   "metadata": {},
   "outputs": [],
   "source": [
    "token_fd = nltk.FreqDist(set.union(*[tokenize(snippet) for snippet in snippets]))\n",
    "all_tokens = [token for token, _ in token_fd.most_common(50)]"
   ]
  },
  {
   "cell_type": "code",
   "execution_count": 66,
   "metadata": {},
   "outputs": [],
   "source": [
    "def tokenize(snippet):\n",
    "    return set(list(re.split('[\\s\\(\\)]+', snippet)))\n",
    "\n",
    "def extract_features(snippet, all_tokens):\n",
    "    tokens = tokenize(snippet)\n",
    "    return {\"contains_{}\".format(token): token in tokens for token in all_tokens}"
   ]
  },
  {
   "cell_type": "code",
   "execution_count": 87,
   "metadata": {},
   "outputs": [],
   "source": [
    "data = [extract_features(snippet, all_tokens) for snippet in snippets]"
   ]
  },
  {
   "cell_type": "code",
   "execution_count": 88,
   "metadata": {},
   "outputs": [
    {
     "data": {
      "text/plain": [
       "['',\n",
       " 'h',\n",
       " 'dataOffset+inserti*8',\n",
       " 'buckets',\n",
       " '_cgo_mmap',\n",
       " 'integer,',\n",
       " 'datap.edata',\n",
       " 'err',\n",
       " 'selectnbrecv',\n",
       " 'int',\n",
       " 'mallocgc',\n",
       " 'sp.str,',\n",
       " 'base',\n",
       " 'named',\n",
       " 'ret',\n",
       " 'dumpobj',\n",
       " '*arraytype',\n",
       " 'strhash',\n",
       " 'reflect_chansend',\n",
       " 'selectnbsend',\n",
       " 'frame',\n",
       " '&bv,',\n",
       " 'oldbucket+newbit',\n",
       " 'allocs,',\n",
       " 'may',\n",
       " 'cpuprof.extra[i]',\n",
       " 'local_scan',\n",
       " 'mapaccessK',\n",
       " 'memhash',\n",
       " 'memEnd',\n",
       " 'uintptr',\n",
       " 'bucketMask',\n",
       " 'dumpint',\n",
       " \"uintptr's\",\n",
       " 'new',\n",
       " 'gp._panic',\n",
       " 'handles',\n",
       " 'dataOffset+i*8',\n",
       " 'chanLock',\n",
       " 'stack',\n",
       " 'Loadp',\n",
       " 'inheap',\n",
       " 'uint64',\n",
       " 'd',\n",
       " 'old',\n",
       " 'return',\n",
       " 'minLegalPointer',\n",
       " 'datap.bss',\n",
       " 'or',\n",
       " 'callCgoMmap']"
      ]
     },
     "execution_count": 88,
     "metadata": {},
     "output_type": "execute_result"
    }
   ],
   "source": [
    "all_tokens"
   ]
  },
  {
   "cell_type": "markdown",
   "metadata": {},
   "source": [
    "## K-Means Clustering"
   ]
  },
  {
   "cell_type": "code",
   "execution_count": 89,
   "metadata": {},
   "outputs": [],
   "source": [
    "v = DictVectorizer(sparse=False)\n",
    "\n",
    "X = v.fit_transform(data)"
   ]
  },
  {
   "cell_type": "code",
   "execution_count": 90,
   "metadata": {},
   "outputs": [],
   "source": [
    "cls = KMeans(init='k-means++', n_clusters=8).fit(X)"
   ]
  },
  {
   "cell_type": "code",
   "execution_count": 112,
   "metadata": {},
   "outputs": [],
   "source": [
    "def vector_to_string(tokens):\n",
    "    for key, value in tokens.items():\n",
    "        if value > 0.001:\n",
    "            print(key[len(\"contains_\"):])"
   ]
  },
  {
   "cell_type": "code",
   "execution_count": 116,
   "metadata": {},
   "outputs": [
    {
     "name": "stdout",
     "output_type": "stream",
     "text": [
      "\n",
      "new\n",
      "old\n",
      "return\n",
      "uintptr\n"
     ]
    }
   ],
   "source": [
    "vector_to_string(v.inverse_transform(cls.cluster_centers_)[3])"
   ]
  },
  {
   "cell_type": "markdown",
   "metadata": {},
   "source": [
    "## Aligned Hamming Distance Clustering"
   ]
  },
  {
   "cell_type": "code",
   "execution_count": 136,
   "metadata": {},
   "outputs": [],
   "source": [
    "def aligned_distance(a, b):\n",
    "    s = SequenceMatcher()\n",
    "\n",
    "    s.set_seq1(a)\n",
    "    s.set_seq2(b)\n",
    "\n",
    "    a_str = \"\"\n",
    "    op_str = \"\"\n",
    "    b_str = \"\"\n",
    "\n",
    "    codes = s.get_opcodes()\n",
    "    for code in codes:\n",
    "        a_str += a[code[1]:code[2]]\n",
    "        b_str += b[code[3]:code[4]]\n",
    "\n",
    "        if code[4]-code[3] > code[2]-code[1]:\n",
    "            a_str += \" \" * ((code[4]-code[3]) - (code[2]-code[1]))\n",
    "        elif code[4]-code[3] < code[2]-code[1]:\n",
    "            b_str += \" \" * ((code[2]-code[1]) - (code[4]-code[3]))\n",
    "\n",
    "    return hamming(a_str, b_str)\n",
    "\n",
    "def hamming(a, b):\n",
    "    distance = 0\n",
    "    \n",
    "    for i in range(max(len(a), len(b))):\n",
    "        if i >=len(a) or i >=len(b):\n",
    "            distance += 1\n",
    "            continue\n",
    "        if a[i] != b[i]:\n",
    "            distance += 1\n",
    "            \n",
    "    return distance"
   ]
  },
  {
   "cell_type": "code",
   "execution_count": 137,
   "metadata": {},
   "outputs": [
    {
     "name": "stdout",
     "output_type": "stream",
     "text": [
      "125\n"
     ]
    }
   ],
   "source": [
    "a = \"r1, r2, err := getConsoleCursorInfoProc.Call(handle, uintptr(unsafe.Pointer(cursorInfo)), 0)\"\n",
    "b = \"r1, r2, err := scrollConsoleScreenBufferProc.Call(handle, uintptr(unsafe.Pointer(&scrollRect)), uintptr(unsafe.Pointer(&clipRect)), coordToPointer(destOrigin), uintptr(unsafe.Pointer(&char)))\"\n",
    "\n",
    "print(aligned_distance(a, b))"
   ]
  },
  {
   "cell_type": "code",
   "execution_count": 138,
   "metadata": {},
   "outputs": [
    {
     "name": "stdout",
     "output_type": "stream",
     "text": [
      "12\n",
      "18\n"
     ]
    }
   ],
   "source": [
    "a = \"Hallo Welt!\"\n",
    "b = \"Hallo, du schönes Geld!\"\n",
    "\n",
    "print(aligned_distance(a, b))\n",
    "print(hamming(a, b))"
   ]
  },
  {
   "cell_type": "code",
   "execution_count": 205,
   "metadata": {},
   "outputs": [],
   "source": [
    "distances = np.array([[aligned_distance(a, b) for b in snippets] for a in snippets])"
   ]
  },
  {
   "cell_type": "code",
   "execution_count": 206,
   "metadata": {},
   "outputs": [
    {
     "data": {
      "text/plain": [
       "array([[ 0, 56, 63, ..., 69, 35, 33],\n",
       "       [51,  0, 58, ..., 81, 49, 44],\n",
       "       [63, 79,  0, ..., 59, 35, 44],\n",
       "       ...,\n",
       "       [79, 80, 52, ...,  0, 43, 61],\n",
       "       [41, 55, 35, ..., 43,  0, 25],\n",
       "       [33, 39, 44, ..., 52, 23,  0]])"
      ]
     },
     "execution_count": 206,
     "metadata": {},
     "output_type": "execute_result"
    }
   ],
   "source": [
    "distances"
   ]
  },
  {
   "cell_type": "code",
   "execution_count": 207,
   "metadata": {},
   "outputs": [
    {
     "data": {
      "text/plain": [
       "197"
      ]
     },
     "execution_count": 207,
     "metadata": {},
     "output_type": "execute_result"
    }
   ],
   "source": [
    "max(distances.flatten())"
   ]
  },
  {
   "cell_type": "code",
   "execution_count": 213,
   "metadata": {},
   "outputs": [],
   "source": [
    "THRESHOLD = 100\n",
    "\n",
    "clusters = []\n",
    "unused_indices = set(range(len(snippets)))\n",
    "\n",
    "while len(unused_indices) > 0:\n",
    "    next_index = list(unused_indices)[0]\n",
    "    cluster_indices = set([i for i, d in enumerate(distances[next_index]) if d < THRESHOLD])\n",
    "    \n",
    "    clusters.append([snippets[i] for i in cluster_indices])\n",
    "    \n",
    "    unused_indices -= cluster_indices"
   ]
  },
  {
   "cell_type": "code",
   "execution_count": 214,
   "metadata": {},
   "outputs": [
    {
     "name": "stdout",
     "output_type": "stream",
     "text": [
      "91\n",
      "57\n",
      "6\n",
      "1\n",
      "45\n"
     ]
    }
   ],
   "source": [
    "for cluster in clusters:\n",
    "    print(len(cluster))"
   ]
  },
  {
   "cell_type": "code",
   "execution_count": 215,
   "metadata": {
    "scrolled": false
   },
   "outputs": [
    {
     "name": "stdout",
     "output_type": "stream",
     "text": [
      "hexdumpWords(b, b+n, func(p uintptr) byte {\n",
      "d1.pc = frame.fn.entry + uintptr(frame.fn.deferreturn)\n",
      "adjustpointer(adjinfo, unsafe.Pointer(&gp.sched.bp))\n",
      "func makeheapobjbv(p uintptr, size uintptr) bitvector {\n",
      "// Package reflect's Value methods named Pointer and UnsafeAddr return type uintptr\n",
      "func (fd *FD) RawRead(f func(uintptr) bool) error {\n",
      "return strhash(noescape(unsafe.Pointer(&s)), seed)\n",
      "searchAddr uintptr\n",
      "func (v Value) pointer() unsafe.Pointer {\n",
      "mheap_.specialprofilealloc.free(unsafe.Pointer(sp))\n",
      "if len(x) > 4 && datap.etext <= uintptr(str.str) && uintptr(str.str) < datap.end {\n",
      "uadd += unsafe.Sizeof(uncommontype{})\n",
      "unsafe.Offsetof(finalizer{}.ot) != 4*sys.PtrSize) {\n",
      "val := *(*uintptr)(unsafe.Pointer(p + i))\n",
      "// so not all have these arguments. Mark them uintptr so that the GC\n",
      "_, _, e1 := Syscall(SYS_KEYCTL, uintptr(cmd), uintptr(arg2), 0)\n",
      "func netpolldeadlineimpl(pd *pollDesc, seq uintptr, read, write bool) {\n",
      "func reflectlite_resolveTypeOff(rtype unsafe.Pointer, off int32) unsafe.Pointer {\n",
      "// Converting a Pointer to a uintptr creates an integer value\n",
      "if _g_ := getg(); _g_.m.curg.stack.lo <= uintptr(p) && uintptr(p) < _g_.m.curg.stack.hi {\n",
      "t := (*interfaceType)(unsafe.Pointer(T))\n",
      "func (t *rtype) textOff(off textOff) unsafe.Pointer {\n",
      "p1 := func(x uintptr) {\n",
      "func ptrace(request int, pid int, addr uintptr, data uintptr) (err error) {\n",
      "if !p.gcBgMarkWorker.cas(0, guintptr(unsafe.Pointer(g))) {\n",
      "var p uintptr\n",
      "stsp := uintptr(unsafe.Pointer(st.ss_sp))\n",
      "buckets    unsafe.Pointer // array of 2^B Buckets. may be nil if count==0.\n",
      "_, _, e1 := Syscall(SYS_ACCT, uintptr(unsafe.Pointer(_p0)), 0, 0)\n",
      "return sync_atomic_CompareAndSwapUintptr((*uintptr)(noescape(unsafe.Pointer(ptr))), uintptr(old), uintptr(new))\n",
      "dumpint(uint64(uintptr(unsafe.Pointer(eface._type))))\n",
      "func newarray(typ *_type, n int) unsafe.Pointer {\n",
      "r0, _, e1 := Syscall(SYS_LISTXATTR, uintptr(unsafe.Pointer(_p0)), uintptr(_p1), uintptr(len(dest)))\n",
      "func LoadUintptr(addr *uintptr) (val uintptr)\n",
      "mv = (*reflectMethodValue)(unsafe.Pointer(ctxt))\n",
      "hdrsize uintptr\n",
      "r0, _, e1 := Syscall(SYS_POLL, uintptr(unsafe.Pointer(fds)), uintptr(nfds), uintptr(timeout))\n",
      "func Casp1(ptr *unsafe.Pointer, old, new unsafe.Pointer) bool\n",
      "spanBytes := uintptr(class_to_allocnpages[c.spanclass.sizeclass()]) * _PageSize\n",
      "a1: uintptr(size),\n",
      "uintptr(unsafe.Pointer(&p[0])),\n",
      "func StorepNoWB(ptr unsafe.Pointer, val unsafe.Pointer)\n",
      "argsize uintptr\n",
      "if datap.noptrdata <= uintptr(e.data) && uintptr(e.data) < datap.enoptrdata ||\n",
      "func StorepNoWB(ptr unsafe.Pointer, val unsafe.Pointer)\n",
      "atomic.Storeuintptr(&extram, uintptr(unsafe.Pointer(mp)))\n",
      "func rawSyscallNoError(trap, a1, a2, a3 uintptr) (r1, r2 uintptr)\n",
      "func Syscall6(trap, a1, a2, a3, a4, a5, a6 uintptr) (r1, r2 uintptr, err syscall.Errno)\n",
      "func (c *sigctxt) sigpc() uintptr { return uintptr(c.rip()) }\n",
      "h.spanalloc.init(unsafe.Sizeof(mspan{}), recordspan, unsafe.Pointer(h), &memstats.mspan_sys)\n",
      "for special != nil && uintptr(special.offset) < endOffset {\n",
      "*k.ptr = info.loadOffset + uintptr(sym.st_value)\n",
      "pp := (*RawSockaddrUnix)(unsafe.Pointer(rsa))\n",
      "p unsafe.Pointer\n",
      "_p0 = unsafe.Pointer(&_zero)\n",
      "p = uintptr(i)<<40 | uintptrMask&(0xa0<<52)\n",
      "p := s.base() + uintptr(special.offset)\n",
      "spineLen = atomic.Loaduintptr(&b.spineLen)\n",
      "_, _, e1 := Syscall(SYS_MUNLOCK, uintptr(_p0), uintptr(len(b)), 0)\n",
      "bulkBarrierPreWrite(uintptr(dstp), uintptr(srcp), size)\n",
      "var inserti uintptr\n",
      "r0, _, e1 := RawSyscall(SYS_INOTIFY_RM_WATCH, uintptr(fd), uintptr(watchdesc), 0)\n",
      "n := uintptr(rootBlockBytes)\n",
      "tt := (*arrayType)(unsafe.Pointer(v.typ))\n",
      "for i, k := uintptr(0), b.keys(); i < bucketCnt; i, k = i+1, add(k, 8) {\n",
      "d._panic = (*_panic)(noescape(unsafe.Pointer(&p)))\n",
      "*(*uint16)(unsafe.Pointer(&b[6:8][0])) = rr.Header.Flags\n",
      "const ptrSize = 4 << (^uintptr(0) >> 63) // unsafe.Sizeof(uintptr(0)) but an ideal const\n",
      "next uintptr // *gcBits triggers recursive type bug. (issue 14620)\n",
      "msanwrite(unsafe.Pointer(new), unsafe.Sizeof(*new))\n",
      "s := spanOfUnchecked(uintptr(v))\n",
      "// The guintptr, muintptr, and puintptr are all used to bypass write barriers.\n",
      "atomic.StorePointer((*unsafe.Pointer)(unsafe.Pointer(p)), unsafe.Pointer(v))\n",
      "func msanRead(addr unsafe.Pointer, len int) {\n",
      "buckets    unsafe.Pointer // array of 2^B Buckets. may be nil if count==0.\n",
      "msanwrite(unsafe.Pointer(&arg), unsafe.Sizeof(arg))\n",
      "_, _, e1 := Syscall(SYS_UNLINKAT, uintptr(dirfd), uintptr(unsafe.Pointer(_p0)), uintptr(flags))\n",
      "netpollBreakRd = uintptr(r)\n",
      "off := (uintptr(p) + i - datap.data) / sys.PtrSize\n",
      "func add(p unsafe.Pointer, x uintptr) unsafe.Pointer {\n",
      "ctxt unsafe.Pointer\n",
      "if unsafe.Sizeof(f) != 4 {\n",
      "func (s *stackScanState) putPtr(p uintptr, conservative bool) {\n",
      "func (b *pallocBits) find(npages uintptr, searchIdx uint) (uint, uint) {\n",
      "def = (*elfVerdef)(add(unsafe.Pointer(def), uintptr(def.vd_next)))\n",
      "return setsockopt(fd, level, opt, unsafe.Pointer(mreq), SizeofIPMreq)\n",
      "return setsockopt(fd, SOL_SOCKET, SO_ATTACH_FILTER, unsafe.Pointer(&p), unsafe.Sizeof(p))\n",
      "newg.sched.g = guintptr(unsafe.Pointer(newg))\n",
      "t := (*itabTableType)(atomic.Loadp(unsafe.Pointer(&itabTable)))\n",
      "waitlock      unsafe.Pointer\n",
      "m.fun[0] = uintptr(fun0)\n",
      "\n",
      "-----------------------------\n",
      "\n",
      "adjustpointer(adjinfo, unsafe.Pointer(&gp.sched.bp))\n",
      "func (fd *FD) RawRead(f func(uintptr) bool) error {\n",
      "return strhash(noescape(unsafe.Pointer(&s)), seed)\n",
      "searchAddr uintptr\n",
      "mheap_.specialprofilealloc.free(unsafe.Pointer(sp))\n",
      "uadd += unsafe.Sizeof(uncommontype{})\n",
      "val := *(*uintptr)(unsafe.Pointer(p + i))\n",
      "func reflectlite_resolveTypeOff(rtype unsafe.Pointer, off int32) unsafe.Pointer {\n",
      "t := (*interfaceType)(unsafe.Pointer(T))\n",
      "p1 := func(x uintptr) {\n",
      "if !p.gcBgMarkWorker.cas(0, guintptr(unsafe.Pointer(g))) {\n",
      "var p uintptr\n",
      "stsp := uintptr(unsafe.Pointer(st.ss_sp))\n",
      "_, _, e1 := Syscall(SYS_ACCT, uintptr(unsafe.Pointer(_p0)), 0, 0)\n",
      "return sync_atomic_CompareAndSwapUintptr((*uintptr)(noescape(unsafe.Pointer(ptr))), uintptr(old), uintptr(new))\n",
      "dumpint(uint64(uintptr(unsafe.Pointer(eface._type))))\n",
      "old := unsafe.Pointer(sync_atomic_SwapUintptr((*uintptr)(noescape(unsafe.Pointer(ptr))), uintptr(new)))\n",
      "r0, _, e1 := Syscall(SYS_LISTXATTR, uintptr(unsafe.Pointer(_p0)), uintptr(_p1), uintptr(len(dest)))\n",
      "func LoadUintptr(addr *uintptr) (val uintptr)\n",
      "r1, _, err1 = RawSyscall(SYS_WRITE, uintptr(fd1), uintptr(unsafe.Pointer(&gidmap[0])), uintptr(len(gidmap)))\n",
      "mv = (*reflectMethodValue)(unsafe.Pointer(ctxt))\n",
      "hdrsize uintptr\n",
      "r0, _, e1 := Syscall(SYS_POLL, uintptr(unsafe.Pointer(fds)), uintptr(nfds), uintptr(timeout))\n",
      "a1: uintptr(size),\n",
      "uintptr(unsafe.Pointer(&p[0])),\n",
      "func StorepNoWB(ptr unsafe.Pointer, val unsafe.Pointer)\n",
      "argsize uintptr\n",
      "func StorepNoWB(ptr unsafe.Pointer, val unsafe.Pointer)\n",
      "atomic.Storeuintptr(&extram, uintptr(unsafe.Pointer(mp)))\n",
      "func rawSyscallNoError(trap, a1, a2, a3 uintptr) (r1, r2 uintptr)\n",
      "func (c *sigctxt) sigpc() uintptr { return uintptr(c.rip()) }\n",
      "pp := (*RawSockaddrUnix)(unsafe.Pointer(rsa))\n",
      "p unsafe.Pointer\n",
      "_p0 = unsafe.Pointer(&_zero)\n",
      "p := s.base() + uintptr(special.offset)\n",
      "spineLen = atomic.Loaduintptr(&b.spineLen)\n",
      "bulkBarrierPreWrite(uintptr(dstp), uintptr(srcp), size)\n",
      "var inserti uintptr\n",
      "n := uintptr(rootBlockBytes)\n",
      "tt := (*arrayType)(unsafe.Pointer(v.typ))\n",
      "d._panic = (*_panic)(noescape(unsafe.Pointer(&p)))\n",
      "*(*uint16)(unsafe.Pointer(&b[6:8][0])) = rr.Header.Flags\n",
      "msanwrite(unsafe.Pointer(new), unsafe.Sizeof(*new))\n",
      "s := spanOfUnchecked(uintptr(v))\n",
      "atomic.StorePointer((*unsafe.Pointer)(unsafe.Pointer(p)), unsafe.Pointer(v))\n",
      "func msanRead(addr unsafe.Pointer, len int) {\n",
      "msanwrite(unsafe.Pointer(&arg), unsafe.Sizeof(arg))\n",
      "_, _, e1 := Syscall(SYS_UNLINKAT, uintptr(dirfd), uintptr(unsafe.Pointer(_p0)), uintptr(flags))\n",
      "netpollBreakRd = uintptr(r)\n",
      "func add(p unsafe.Pointer, x uintptr) unsafe.Pointer {\n",
      "ctxt unsafe.Pointer\n",
      "if unsafe.Sizeof(f) != 4 {\n",
      "def = (*elfVerdef)(add(unsafe.Pointer(def), uintptr(def.vd_next)))\n",
      "newg.sched.g = guintptr(unsafe.Pointer(newg))\n",
      "t := (*itabTableType)(atomic.Loadp(unsafe.Pointer(&itabTable)))\n",
      "waitlock      unsafe.Pointer\n",
      "m.fun[0] = uintptr(fun0)\n",
      "\n",
      "-----------------------------\n",
      "\n",
      "r0, _, e1 := Syscall(SYS_LISTXATTR, uintptr(unsafe.Pointer(_p0)), uintptr(_p1), uintptr(len(dest)))\n",
      "r0, _, e1 := Syscall(SYS_POLL, uintptr(unsafe.Pointer(fds)), uintptr(nfds), uintptr(timeout))\n",
      "r0, _, e1 := Syscall6(SYS_SELECT, uintptr(nfd), uintptr(unsafe.Pointer(r)), uintptr(unsafe.Pointer(w)), uintptr(unsafe.Pointer(e)), uintptr(unsafe.Pointer(timeout)), 0)\n",
      "_, _, e1 := Syscall(SYS_UNLINKAT, uintptr(dirfd), uintptr(unsafe.Pointer(_p0)), uintptr(flags))\n",
      "_, _, e1 := Syscall6(SYS_NAME_TO_HANDLE_AT, uintptr(dirFD), uintptr(unsafe.Pointer(_p0)), uintptr(unsafe.Pointer(fh)), uintptr(unsafe.Pointer(mountID)), uintptr(flags), 0)\n",
      "_, _, e1 := Syscall6(SYS_UTIMENSAT, uintptr(dirfd), uintptr(unsafe.Pointer(_p0)), uintptr(unsafe.Pointer(times)), uintptr(flag), 0, 0)\n",
      "\n",
      "-----------------------------\n",
      "\n",
      "func gentraceback(pc0, sp0, lr0 uintptr, gp *g, skip int, pcbuf *uintptr, max int, callback func(*stkframe, unsafe.Pointer) bool, v unsafe.Pointer, flags uint) int {\n",
      "\n",
      "-----------------------------\n",
      "\n",
      "adjustpointer(adjinfo, unsafe.Pointer(&gp.sched.bp))\n",
      "func makeheapobjbv(p uintptr, size uintptr) bitvector {\n",
      "return strhash(noescape(unsafe.Pointer(&s)), seed)\n",
      "searchAddr uintptr\n",
      "func (v Value) pointer() unsafe.Pointer {\n",
      "mheap_.specialprofilealloc.free(unsafe.Pointer(sp))\n",
      "val := *(*uintptr)(unsafe.Pointer(p + i))\n",
      "_, _, e1 := Syscall(SYS_KEYCTL, uintptr(cmd), uintptr(arg2), 0)\n",
      "t := (*interfaceType)(unsafe.Pointer(T))\n",
      "p1 := func(x uintptr) {\n",
      "stsp := uintptr(unsafe.Pointer(st.ss_sp))\n",
      "_, _, e1 := Syscall(SYS_ACCT, uintptr(unsafe.Pointer(_p0)), 0, 0)\n",
      "dumpint(uint64(uintptr(unsafe.Pointer(eface._type))))\n",
      "r0, _, e1 := Syscall(SYS_LISTXATTR, uintptr(unsafe.Pointer(_p0)), uintptr(_p1), uintptr(len(dest)))\n",
      "r1, _, err1 = RawSyscall(SYS_WRITE, uintptr(fd1), uintptr(unsafe.Pointer(&gidmap[0])), uintptr(len(gidmap)))\n",
      "mv = (*reflectMethodValue)(unsafe.Pointer(ctxt))\n",
      "r0, _, e1 := Syscall(SYS_POLL, uintptr(unsafe.Pointer(fds)), uintptr(nfds), uintptr(timeout))\n",
      "a1: uintptr(size),\n",
      "uintptr(unsafe.Pointer(&p[0])),\n",
      "atomic.Storeuintptr(&extram, uintptr(unsafe.Pointer(mp)))\n",
      "func rawSyscallNoError(trap, a1, a2, a3 uintptr) (r1, r2 uintptr)\n",
      "func (c *sigctxt) sigpc() uintptr { return uintptr(c.rip()) }\n",
      "pp := (*RawSockaddrUnix)(unsafe.Pointer(rsa))\n",
      "p unsafe.Pointer\n",
      "_p0 = unsafe.Pointer(&_zero)\n",
      "p = uintptr(i)<<40 | uintptrMask&(0xa0<<52)\n",
      "p := s.base() + uintptr(special.offset)\n",
      "_, _, e1 := Syscall(SYS_MUNLOCK, uintptr(_p0), uintptr(len(b)), 0)\n",
      "_, _, e1 := Syscall6(SYS_UTIMENSAT, uintptr(dirfd), uintptr(unsafe.Pointer(_p0)), uintptr(unsafe.Pointer(times)), uintptr(flag), 0, 0)\n",
      "bulkBarrierPreWrite(uintptr(dstp), uintptr(srcp), size)\n",
      "r0, _, e1 := RawSyscall(SYS_INOTIFY_RM_WATCH, uintptr(fd), uintptr(watchdesc), 0)\n",
      "n := uintptr(rootBlockBytes)\n",
      "tt := (*arrayType)(unsafe.Pointer(v.typ))\n",
      "d._panic = (*_panic)(noescape(unsafe.Pointer(&p)))\n",
      "_, _, e1 := Syscall6(SYS_REBOOT, uintptr(magic1), uintptr(magic2), uintptr(cmd), uintptr(unsafe.Pointer(_p0)), 0, 0)\n",
      "atomic.StorePointer((*unsafe.Pointer)(unsafe.Pointer(p)), unsafe.Pointer(v))\n",
      "_, _, e1 := Syscall6(SYS_CLOCK_NANOSLEEP, uintptr(clockid), uintptr(flags), uintptr(unsafe.Pointer(request)), uintptr(unsafe.Pointer(remain)), 0, 0)\n",
      "_, _, e1 := Syscall(SYS_UNLINKAT, uintptr(dirfd), uintptr(unsafe.Pointer(_p0)), uintptr(flags))\n",
      "netpollBreakRd = uintptr(r)\n",
      "ctxt unsafe.Pointer\n",
      "r0, _, e1 := Syscall6(SYS_EPOLL_WAIT, uintptr(epfd), uintptr(_p0), uintptr(len(events)), uintptr(msec), 0, 0)\n",
      "newg.sched.g = guintptr(unsafe.Pointer(newg))\n",
      "t := (*itabTableType)(atomic.Loadp(unsafe.Pointer(&itabTable)))\n",
      "waitlock      unsafe.Pointer\n",
      "m.fun[0] = uintptr(fun0)\n",
      "\n",
      "-----------------------------\n",
      "\n"
     ]
    }
   ],
   "source": [
    "for cluster in clusters:\n",
    "    for snippet in cluster:\n",
    "        print(snippet.strip())\n",
    "    print(\"\")\n",
    "    print(\"-----------------------------\")\n",
    "    print(\"\")"
   ]
  }
 ],
 "metadata": {
  "kernelspec": {
   "display_name": "Python 3",
   "language": "python",
   "name": "python3"
  },
  "language_info": {
   "codemirror_mode": {
    "name": "ipython",
    "version": 3
   },
   "file_extension": ".py",
   "mimetype": "text/x-python",
   "name": "python",
   "nbconvert_exporter": "python",
   "pygments_lexer": "ipython3",
   "version": "3.7.3"
  }
 },
 "nbformat": 4,
 "nbformat_minor": 2
}
