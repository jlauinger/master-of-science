{
 "cells": [
  {
   "cell_type": "code",
   "execution_count": 1,
   "metadata": {},
   "outputs": [],
   "source": [
    "import numpy as np\n",
    "import pandas as pd\n",
    "import matplotlib\n",
    "from matplotlib import pyplot as plt\n",
    "import tikzplotlib\n",
    "import seaborn as sns\n",
    "\n",
    "import json\n",
    "from datetime import datetime"
   ]
  },
  {
   "cell_type": "code",
   "execution_count": 2,
   "metadata": {},
   "outputs": [],
   "source": [
    "projects_df = pd.read_csv('/root/data/projects.csv',\n",
    "                         parse_dates=['project_created_at', 'project_last_pushed_at', 'project_updated_at'])\n",
    "packages_df = pd.read_csv('/root/data/packages_0_499.csv')\n",
    "geiger_df = pd.read_csv('/root/data/geiger/geiger_findings_0_499.csv')\n",
    "\n",
    "vet_df = pd.read_csv('/root/data/linters/vet_findings_0_499.csv')\n",
    "gosec_df = pd.read_csv('/root/data/linters/gosec_findings_0_499.csv')"
   ]
  },
  {
   "cell_type": "markdown",
   "metadata": {},
   "source": [
    "# Comparison of go-geiger performance with go vet and gosec"
   ]
  },
  {
   "cell_type": "markdown",
   "metadata": {},
   "source": [
    "## Vet findings over geiger findings: any Vet message"
   ]
  },
  {
   "cell_type": "code",
   "execution_count": 18,
   "metadata": {},
   "outputs": [],
   "source": [
    "df1 = geiger_df.drop_duplicates(subset=['package_import_path', 'module_path', 'module_version', \n",
    "                                        'file_name', 'line_number']).dropna()\n",
    "\n",
    "df2 = vet_df.drop_duplicates(subset=['package_import_path', 'module_path', 'module_version', \n",
    "                                     'file_name', 'line_number']).dropna()\n",
    "\n",
    "vet_merged_df = pd.merge(df1, df2, how='outer', on=['package_import_path', 'module_path', 'module_version', \n",
    "                                                    'file_name', 'line_number'])"
   ]
  },
  {
   "cell_type": "code",
   "execution_count": 23,
   "metadata": {},
   "outputs": [],
   "source": [
    "vet_and_unsafe_df = vet_merged_df.dropna()\n",
    "only_unsafe_df = vet_merged_df.loc[vet_merged_df['message'].isna()]\n",
    "only_vet_df = vet_merged_df.loc[vet_merged_df['text'].isna()]"
   ]
  },
  {
   "cell_type": "code",
   "execution_count": 27,
   "metadata": {},
   "outputs": [
    {
     "name": "stdout",
     "output_type": "stream",
     "text": [
      "[tp] lines that were flagged by geiger and vet (any message): 219\n",
      "[fn] lines that were not flagged by vet: 76738\n",
      "[fp] lines that were flagged by vet (any message) but not geigered: 25000\n"
     ]
    }
   ],
   "source": [
    "print(\"[tp] lines that were flagged by geiger and vet (any message): {}\".format(vet_and_unsafe_df['line_number'].count()))\n",
    "print(\"[fn] lines that were not flagged by vet: {}\".format(only_unsafe_df['line_number'].count()))\n",
    "print(\"[fp] lines that were flagged by vet (any message) but not geigered: {}\".format(only_vet_df['line_number'].count()))"
   ]
  },
  {
   "cell_type": "markdown",
   "metadata": {},
   "source": [
    "## Vet findings over geiger findings: unsafeptr Vet message"
   ]
  },
  {
   "cell_type": "code",
   "execution_count": 29,
   "metadata": {},
   "outputs": [],
   "source": [
    "df1 = geiger_df\\\n",
    "    .drop_duplicates(subset=['package_import_path', 'module_path', 'module_version', 'file_name', 'line_number'])\\\n",
    "    .dropna()\n",
    "\n",
    "df2 = vet_df\\\n",
    "    [vet_df['message']=='possible misuse of unsafe.Pointer']\\\n",
    "    .drop_duplicates(subset=['package_import_path', 'module_path', 'module_version',  'file_name', 'line_number'])\\\n",
    "    .dropna()\n",
    "\n",
    "vet_merged_df = pd.merge(df1, df2, how='outer', on=['package_import_path', 'module_path', 'module_version', \n",
    "                                                    'file_name', 'line_number'])"
   ]
  },
  {
   "cell_type": "code",
   "execution_count": 30,
   "metadata": {},
   "outputs": [],
   "source": [
    "vet_and_unsafe_df = vet_merged_df.dropna()\n",
    "only_unsafe_df = vet_merged_df.loc[vet_merged_df['message'].isna()]\n",
    "only_vet_df = vet_merged_df.loc[vet_merged_df['text'].isna()]"
   ]
  },
  {
   "cell_type": "code",
   "execution_count": 31,
   "metadata": {},
   "outputs": [
    {
     "name": "stdout",
     "output_type": "stream",
     "text": [
      "[tp] lines that were flagged by geiger and vet (unsafeptr): 213\n",
      "[fn] lines that were not flagged by vet: 76744\n",
      "[fp] lines that were flagged by vet (unsafeptr) but not geigered: 0\n"
     ]
    }
   ],
   "source": [
    "print(\"[tp] lines that were flagged by geiger and vet (unsafeptr): {}\".format(vet_and_unsafe_df['line_number'].count()))\n",
    "print(\"[fn] lines that were not flagged by vet: {}\".format(only_unsafe_df['line_number'].count()))\n",
    "print(\"[fp] lines that were flagged by vet (unsafeptr) but not geigered: {}\".format(only_vet_df['line_number'].count()))"
   ]
  },
  {
   "cell_type": "markdown",
   "metadata": {},
   "source": [
    "## Gosec findings over geiger findings: any gosec message"
   ]
  },
  {
   "cell_type": "code",
   "execution_count": 39,
   "metadata": {},
   "outputs": [],
   "source": [
    "df1 = geiger_df\\\n",
    "    .drop_duplicates(subset=['package_import_path', 'module_path', 'module_version', 'file_name', 'line_number'])\\\n",
    "    .dropna()\n",
    "\n",
    "df2 = gosec_df\\\n",
    "    .drop_duplicates(subset=['package_import_path', 'module_path', 'module_version',  'file_name', 'line_number'])\\\n",
    "    .dropna()\n",
    "\n",
    "gosec_merged_df = pd.merge(df1, df2, how='outer', on=['package_import_path', 'module_path', 'module_version', \n",
    "                                                      'file_name', 'line_number'])"
   ]
  },
  {
   "cell_type": "code",
   "execution_count": 40,
   "metadata": {},
   "outputs": [],
   "source": [
    "gosec_and_unsafe_df = gosec_merged_df.dropna()\n",
    "only_unsafe_df = gosec_merged_df.loc[gosec_merged_df['message'].isna()]\n",
    "only_gosec_df = gosec_merged_df.loc[gosec_merged_df['text'].isna()]"
   ]
  },
  {
   "cell_type": "code",
   "execution_count": 41,
   "metadata": {},
   "outputs": [
    {
     "name": "stdout",
     "output_type": "stream",
     "text": [
      "[tp] lines that were flagged by geiger (all matches) and gosec: 31352\n",
      "[fn] lines that were not flagged by gosec: 45605\n",
      "[fp] lines that were flagged by gosec but not geigered: 94400\n"
     ]
    }
   ],
   "source": [
    "print(\"[tp] lines that were flagged by geiger and gosec (any message): {}\".format(gosec_and_unsafe_df['line_number'].count()))\n",
    "print(\"[fn] lines that were not flagged by gosec: {}\".format(only_unsafe_df['line_number'].count()))\n",
    "print(\"[fp] lines that were flagged by gosec (any message) but not geigered: {}\".format(only_gosec_df['line_number'].count()))"
   ]
  },
  {
   "cell_type": "markdown",
   "metadata": {},
   "source": [
    "## Gosec findings over geiger findings: only the unsafe-related gosec messages"
   ]
  },
  {
   "cell_type": "code",
   "execution_count": 49,
   "metadata": {},
   "outputs": [],
   "source": [
    "df1 = geiger_df\\\n",
    "    .drop_duplicates(subset=['package_import_path', 'module_path', 'module_version', 'file_name', 'line_number'])\\\n",
    "    .dropna()\n",
    "\n",
    "df2 = gosec_df\\\n",
    "    [gosec_df['message']=='Use of unsafe calls should be audited']\\\n",
    "    .drop_duplicates(subset=['package_import_path', 'module_path', 'module_version',  'file_name', 'line_number'])\\\n",
    "    .dropna()\n",
    "\n",
    "gosec_merged_df = pd.merge(df1, df2, how='outer', on=['package_import_path', 'module_path', 'module_version', \n",
    "                                                      'file_name', 'line_number'])"
   ]
  },
  {
   "cell_type": "code",
   "execution_count": 50,
   "metadata": {},
   "outputs": [],
   "source": [
    "gosec_and_unsafe_df = gosec_merged_df.dropna()\n",
    "only_unsafe_df = gosec_merged_df.loc[gosec_merged_df['message'].isna()]\n",
    "only_gosec_df = gosec_merged_df.loc[gosec_merged_df['text'].isna()]"
   ]
  },
  {
   "cell_type": "code",
   "execution_count": 51,
   "metadata": {},
   "outputs": [
    {
     "name": "stdout",
     "output_type": "stream",
     "text": [
      "[tp] lines that were flagged by geiger and gosec (only unsafe-related): 31345\n",
      "[fn] lines that were not flagged by gosec: 45612\n",
      "[fp] lines that were flagged by gosec (only unsafe-related) but not geigered: 6700\n"
     ]
    }
   ],
   "source": [
    "print(\"[tp] lines that were flagged by geiger and gosec (only unsafe-related): {}\".format(gosec_and_unsafe_df['line_number'].count()))\n",
    "print(\"[fn] lines that were not flagged by gosec: {}\".format(only_unsafe_df['line_number'].count()))\n",
    "print(\"[fp] lines that were flagged by gosec (only unsafe-related) but not geigered: {}\".format(only_gosec_df['line_number'].count()))"
   ]
  }
 ],
 "metadata": {
  "kernelspec": {
   "display_name": "Python 3",
   "language": "python",
   "name": "python3"
  },
  "language_info": {
   "codemirror_mode": {
    "name": "ipython",
    "version": 3
   },
   "file_extension": ".py",
   "mimetype": "text/x-python",
   "name": "python",
   "nbconvert_exporter": "python",
   "pygments_lexer": "ipython3",
   "version": "3.7.3"
  }
 },
 "nbformat": 4,
 "nbformat_minor": 4
}
