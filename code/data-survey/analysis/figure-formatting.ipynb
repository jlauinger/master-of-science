{
 "cells": [
  {
   "cell_type": "code",
   "execution_count": 1,
   "metadata": {},
   "outputs": [],
   "source": [
    "import numpy as np\n",
    "import pandas as pd\n",
    "import matplotlib\n",
    "from matplotlib import pyplot as plt\n",
    "import tikzplotlib\n",
    "\n",
    "import json\n",
    "from datetime import datetime"
   ]
  },
  {
   "cell_type": "code",
   "execution_count": 2,
   "metadata": {},
   "outputs": [],
   "source": [
    "projects_df = pd.read_csv('/root/data/projects.csv',\n",
    "                         parse_dates=['project_created_at', 'project_last_pushed_at', 'project_updated_at'])\n",
    "\n",
    "packages_df = pd.read_csv('/root/data/packages_0_499.csv')\n",
    "geiger_df = pd.read_csv('/root/data/geiger/geiger_findings_0_499.csv')\n",
    "\n",
    "vet_df = pd.read_csv('/root/data/linters/vet_findings_0_499.csv')\n",
    "gosec_df = pd.read_csv('/root/data/linters/gosec_findings_0_499.csv')\n",
    "\n",
    "grep_df = pd.read_csv('/root/data/linters/grep_findings_0_499.csv')\n",
    "ast_df = pd.read_csv('/root/data/ast/ast_findings_0_499.csv')\n",
    "function_df = pd.read_csv('/root/data/ast/functions_0_499.csv')\n",
    "statement_df = pd.read_csv('/root/data/ast/statements_0_499.csv')"
   ]
  },
  {
   "cell_type": "markdown",
   "metadata": {},
   "source": [
    "# Figures included in the thesis document"
   ]
  },
  {
   "cell_type": "code",
   "execution_count": null,
   "metadata": {},
   "outputs": [],
   "source": []
  },
  {
   "cell_type": "code",
   "execution_count": null,
   "metadata": {},
   "outputs": [],
   "source": []
  },
  {
   "cell_type": "code",
   "execution_count": null,
   "metadata": {},
   "outputs": [],
   "source": []
  },
  {
   "cell_type": "code",
   "execution_count": null,
   "metadata": {},
   "outputs": [],
   "source": []
  }
 ],
 "metadata": {
  "kernelspec": {
   "display_name": "Python 3",
   "language": "python",
   "name": "python3"
  },
  "language_info": {
   "codemirror_mode": {
    "name": "ipython",
    "version": 3
   },
   "file_extension": ".py",
   "mimetype": "text/x-python",
   "name": "python",
   "nbconvert_exporter": "python",
   "pygments_lexer": "ipython3",
   "version": "3.7.3"
  }
 },
 "nbformat": 4,
 "nbformat_minor": 4
}
