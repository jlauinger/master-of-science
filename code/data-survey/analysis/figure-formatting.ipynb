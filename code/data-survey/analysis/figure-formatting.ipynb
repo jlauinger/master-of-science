{
 "cells": [
  {
   "cell_type": "code",
   "execution_count": 3,
   "metadata": {},
   "outputs": [],
   "source": [
    "import numpy as np\n",
    "import pandas as pd\n",
    "import matplotlib\n",
    "from matplotlib import pyplot as plt\n",
    "\n",
    "import json\n",
    "from datetime import datetime"
   ]
  },
  {
   "cell_type": "code",
   "execution_count": 4,
   "metadata": {},
   "outputs": [],
   "source": [
    "matplotlib.use(\"pgf\")\n",
    "matplotlib.rcParams.update({\n",
    "    \"pgf.texsystem\": \"pdflatex\",\n",
    "    'font.family': 'serif',\n",
    "    'text.usetex': True,\n",
    "    'pgf.rcfonts': False,\n",
    "})"
   ]
  },
  {
   "cell_type": "code",
   "execution_count": 5,
   "metadata": {},
   "outputs": [],
   "source": [
    "projects_df = pd.read_csv('/root/data/projects.csv',\n",
    "                         parse_dates=['project_created_at', 'project_last_pushed_at', 'project_updated_at'])\n",
    "grep_df = pd.read_csv('/root/data/lexical/grep_findings_0_499.csv')\n",
    "package_df = pd.read_csv('/root/data/packages_0_499.csv')\n",
    "vet_df = pd.read_csv('/root/data/lexical/vet_findings_0_499.csv')\n",
    "gosec_df = pd.read_csv('/root/data/lexical/gosec_findings_0_499.csv')"
   ]
  },
  {
   "cell_type": "code",
   "execution_count": 7,
   "metadata": {},
   "outputs": [],
   "source": [
    "grep_df\\\n",
    "    .where(grep_df['match_type']=='unsafe.Pointer')\\\n",
    "    .groupby(['package_import_path', 'project_name'])['package_import_path'].count()\\\n",
    "    .groupby('package_import_path').max()\\\n",
    "    .sort_values(ascending=True)[-20:]\\\n",
    "    .plot.barh(title='Number of unsafe.Pointer usages per package', figsize=(5,5))\n",
    "\n",
    "plt.savefig('/root/data/figures/unsafe-usages-by-package-n20.pgf')"
   ]
  }
 ],
 "metadata": {
  "kernelspec": {
   "display_name": "Python 3",
   "language": "python",
   "name": "python3"
  },
  "language_info": {
   "codemirror_mode": {
    "name": "ipython",
    "version": 3
   },
   "file_extension": ".py",
   "mimetype": "text/x-python",
   "name": "python",
   "nbconvert_exporter": "python",
   "pygments_lexer": "ipython3",
   "version": "3.7.3"
  }
 },
 "nbformat": 4,
 "nbformat_minor": 4
}
