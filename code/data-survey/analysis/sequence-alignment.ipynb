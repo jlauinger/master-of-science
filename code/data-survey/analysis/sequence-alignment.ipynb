{
 "cells": [
  {
   "cell_type": "code",
   "execution_count": 7,
   "metadata": {},
   "outputs": [],
   "source": [
    "from difflib import SequenceMatcher"
   ]
  },
  {
   "cell_type": "code",
   "execution_count": 8,
   "metadata": {},
   "outputs": [
    {
     "name": "stdout",
     "output_type": "stream",
     "text": [
      "dsa jld lal\n",
      "dsajld kll\n",
      "0.8571428571428571\n",
      "[Match(a=0, b=0, size=3), Match(a=4, b=3, size=4), Match(a=8, b=8, size=1), Match(a=10, b=9, size=1), Match(a=11, b=10, size=0)]\n",
      "dsa jld lal\n",
      "dsc jle kal\n",
      "0.7272727272727273\n",
      "[Match(a=0, b=0, size=2), Match(a=3, b=3, size=3), Match(a=7, b=7, size=1), Match(a=9, b=9, size=2), Match(a=11, b=11, size=0)]\n",
      "dsajld kll\n",
      "dsc jle kal\n",
      "0.6666666666666666\n",
      "[Match(a=0, b=0, size=2), Match(a=3, b=4, size=2), Match(a=6, b=7, size=2), Match(a=8, b=10, size=1), Match(a=10, b=11, size=0)]\n"
     ]
    }
   ],
   "source": [
    "a = \"dsa jld lal\"\n",
    "b = \"dsajld kll\"\n",
    "c = \"dsc jle kal\"\n",
    "\n",
    "ss = [a,b,c]\n",
    "\n",
    "s = SequenceMatcher()\n",
    "\n",
    "for i in range(len(ss)):\n",
    "    x = ss[i]\n",
    "    s.set_seq1(x)\n",
    "    for j in range(i+1,len(ss)):\n",
    "\n",
    "        y = ss[j]\n",
    "        s.set_seq2(y)\n",
    "\n",
    "        \n",
    "        print(x)\n",
    "        print(y)\n",
    "        print(s.ratio())\n",
    "        print(s.get_matching_blocks())"
   ]
  },
  {
   "cell_type": "code",
   "execution_count": 11,
   "metadata": {},
   "outputs": [
    {
     "name": "stdout",
     "output_type": "stream",
     "text": [
      "0.9891304347826086\n",
      "[Match(a=0, b=0, size=15), Match(a=16, b=16, size=76), Match(a=92, b=92, size=0)]\n",
      "[('equal', 0, 15, 0, 15), ('replace', 15, 16, 15, 16), ('equal', 16, 92, 16, 92)]\n"
     ]
    }
   ],
   "source": [
    "a = \"r1, r2, err := getConsoleCursorInfoProc.Call(handle, uintptr(unsafe.Pointer(cursorInfo)), 0)\"\n",
    "b = \"r1, r2, err := setConsoleCursorInfoProc.Call(handle, uintptr(unsafe.Pointer(cursorInfo)), 0)\"\n",
    "\n",
    "s = SequenceMatcher()\n",
    "\n",
    "s.set_seq1(a)\n",
    "s.set_seq2(b)\n",
    "\n",
    "print(s.ratio())\n",
    "print(s.get_matching_blocks())\n",
    "print(s.get_opcodes())"
   ]
  },
  {
   "cell_type": "code",
   "execution_count": 26,
   "metadata": {},
   "outputs": [
    {
     "name": "stdout",
     "output_type": "stream",
     "text": [
      "r1, r2, err := get   ConsoleC      u   rsorInfoProc.Call(handle, uintptr(unsafe.Pointer(  cursorInfo )), 0    \n",
      "---------------xxxxxx-------xxxxxxx-...-*******-----------------------------------------..-*-*-xxxxxx----xxxxx\n",
      "r1, r2, err := scrollConsoleScreenBuffer       Proc.Call(handle, uintptr(unsafe.Pointer(&sc r ollRect)), uintp\n"
     ]
    }
   ],
   "source": [
    "a = \"r1, r2, err := getConsoleCursorInfoProc.Call(handle, uintptr(unsafe.Pointer(cursorInfo)), 0)\"\n",
    "b = \"r1, r2, err := scrollConsoleScreenBufferProc.Call(handle, uintptr(unsafe.Pointer(&scrollRect)), uintptr(unsafe.Pointer(&clipRect)), coordToPointer(destOrigin), uintptr(unsafe.Pointer(&char)))\"\n",
    "\n",
    "s = SequenceMatcher()\n",
    "\n",
    "s.set_seq1(a)\n",
    "s.set_seq2(b)\n",
    "\n",
    "#print(s.ratio())\n",
    "#print(s.get_opcodes())\n",
    "\n",
    "a_str = \"\"\n",
    "op_str = \"\"\n",
    "b_str = \"\"\n",
    "\n",
    "codes = s.get_opcodes()\n",
    "for code in codes:\n",
    "    a_str += a[code[1]:code[2]]\n",
    "    b_str += b[code[3]:code[4]]\n",
    "    \n",
    "    if code[4]-code[3] > code[2]-code[1]:\n",
    "        a_str += \" \" * ((code[4]-code[3]) - (code[2]-code[1]))\n",
    "    elif code[4]-code[3] < code[2]-code[1]:\n",
    "        b_str += \" \" * ((code[2]-code[1]) - (code[4]-code[3]))\n",
    "    \n",
    "    if code[0] == 'equal':\n",
    "        op_sign = \"-\"\n",
    "    elif code[0] == 'replace':\n",
    "        op_sign = \"x\"\n",
    "    elif code[0] == 'insert':\n",
    "        op_sign = \".\"\n",
    "    elif code[0] == 'delete':\n",
    "        op_sign = \"*\"\n",
    "    else:\n",
    "        op_sign = \" \"\n",
    "    \n",
    "    op_str += op_sign * max(code[2]-code[1], code[4]-code[3])\n",
    "    \n",
    "print(a_str[:110])\n",
    "print(op_str[:110])\n",
    "print(b_str[:110])"
   ]
  }
 ],
 "metadata": {
  "kernelspec": {
   "display_name": "Python 3",
   "language": "python",
   "name": "python3"
  },
  "language_info": {
   "codemirror_mode": {
    "name": "ipython",
    "version": 3
   },
   "file_extension": ".py",
   "mimetype": "text/x-python",
   "name": "python",
   "nbconvert_exporter": "python",
   "pygments_lexer": "ipython3",
   "version": "3.8.2"
  }
 },
 "nbformat": 4,
 "nbformat_minor": 2
}
