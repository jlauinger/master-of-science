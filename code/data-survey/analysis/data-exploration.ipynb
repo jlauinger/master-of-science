{
 "cells": [
  {
   "cell_type": "markdown",
   "metadata": {},
   "source": [
    "# unsafe.Pointer usage survey\n",
    "\n"
   ]
  },
  {
   "cell_type": "code",
   "execution_count": 17,
   "metadata": {},
   "outputs": [],
   "source": [
    "import numpy as np\n",
    "import pandas as pd\n",
    "from matplotlib import pyplot as plt\n",
    "\n",
    "import json\n",
    "from datetime import datetime"
   ]
  },
  {
   "cell_type": "code",
   "execution_count": 18,
   "metadata": {},
   "outputs": [],
   "source": [
    "MATCH_TYPES = (\n",
    "    'unsafe.Pointer', 'unsafe.Sizeof', 'unsafe.Alignof', 'unsafe.Offsetof',\n",
    "    'uintptr', 'reflect.SliceHeader', 'reflect.StringHeader'\n",
    ")"
   ]
  },
  {
   "cell_type": "markdown",
   "metadata": {},
   "source": [
    "## Analyse von Projektdaten"
   ]
  },
  {
   "cell_type": "code",
   "execution_count": 66,
   "metadata": {
    "scrolled": false
   },
   "outputs": [],
   "source": [
    "dateparse = lambda x: datetime.strptime(x, '%Y-%m-%d %H:%M:%S %z %Z')\n",
    "\n",
    "projects_df = pd.read_csv('/home/johannes/studium/s14/masterarbeit/code/data-survey/data/projects.csv',\n",
    "                         parse_dates=['project_created_at', 'project_last_pushed_at', 'project_updated_at'],\n",
    "                         date_parser=dateparse)"
   ]
  },
  {
   "cell_type": "code",
   "execution_count": 32,
   "metadata": {
    "scrolled": true
   },
   "outputs": [
    {
     "data": {
      "text/html": [
       "<div>\n",
       "<style scoped>\n",
       "    .dataframe tbody tr th:only-of-type {\n",
       "        vertical-align: middle;\n",
       "    }\n",
       "\n",
       "    .dataframe tbody tr th {\n",
       "        vertical-align: top;\n",
       "    }\n",
       "\n",
       "    .dataframe thead th {\n",
       "        text-align: right;\n",
       "    }\n",
       "</style>\n",
       "<table border=\"1\" class=\"dataframe\">\n",
       "  <thead>\n",
       "    <tr style=\"text-align: right;\">\n",
       "      <th></th>\n",
       "      <th>project_rank</th>\n",
       "      <th>project_name</th>\n",
       "      <th>project_github_clone_url</th>\n",
       "      <th>project_number_of_stars</th>\n",
       "      <th>project_number_of_forks</th>\n",
       "      <th>project_github_id</th>\n",
       "      <th>project_created_at</th>\n",
       "      <th>project_last_pushed_at</th>\n",
       "      <th>project_updated_at</th>\n",
       "      <th>project_size</th>\n",
       "      <th>project_checkout_path</th>\n",
       "    </tr>\n",
       "  </thead>\n",
       "  <tbody>\n",
       "    <tr>\n",
       "      <th>0</th>\n",
       "      <td>1</td>\n",
       "      <td>golang/go</td>\n",
       "      <td>https://github.com/golang/go.git</td>\n",
       "      <td>71169</td>\n",
       "      <td>10164</td>\n",
       "      <td>23096959</td>\n",
       "      <td>2014-08-19 04:33:40+00:00</td>\n",
       "      <td>2020-04-13 10:27:46+00:00</td>\n",
       "      <td>2020-04-13 11:58:18+00:00</td>\n",
       "      <td>209324</td>\n",
       "      <td>/home/johannes/studium/s14/masterarbeit/downlo...</td>\n",
       "    </tr>\n",
       "    <tr>\n",
       "      <th>1</th>\n",
       "      <td>2</td>\n",
       "      <td>kubernetes/kubernetes</td>\n",
       "      <td>https://github.com/kubernetes/kubernetes.git</td>\n",
       "      <td>64968</td>\n",
       "      <td>23144</td>\n",
       "      <td>20580498</td>\n",
       "      <td>2014-06-06 22:56:04+00:00</td>\n",
       "      <td>2020-04-13 11:53:02+00:00</td>\n",
       "      <td>2020-04-13 11:17:13+00:00</td>\n",
       "      <td>909251</td>\n",
       "      <td>/home/johannes/studium/s14/masterarbeit/downlo...</td>\n",
       "    </tr>\n",
       "    <tr>\n",
       "      <th>2</th>\n",
       "      <td>3</td>\n",
       "      <td>moby/moby</td>\n",
       "      <td>https://github.com/moby/moby.git</td>\n",
       "      <td>56804</td>\n",
       "      <td>16416</td>\n",
       "      <td>7691631</td>\n",
       "      <td>2013-01-18 18:10:57+00:00</td>\n",
       "      <td>2020-04-12 15:23:23+00:00</td>\n",
       "      <td>2020-04-13 12:00:24+00:00</td>\n",
       "      <td>152827</td>\n",
       "      <td>/home/johannes/studium/s14/masterarbeit/downlo...</td>\n",
       "    </tr>\n",
       "    <tr>\n",
       "      <th>3</th>\n",
       "      <td>4</td>\n",
       "      <td>avelino/awesome-go</td>\n",
       "      <td>https://github.com/avelino/awesome-go.git</td>\n",
       "      <td>53411</td>\n",
       "      <td>7088</td>\n",
       "      <td>21540759</td>\n",
       "      <td>2014-07-06 13:42:15+00:00</td>\n",
       "      <td>2020-04-13 09:42:24+00:00</td>\n",
       "      <td>2020-04-13 11:56:14+00:00</td>\n",
       "      <td>8027</td>\n",
       "      <td>/home/johannes/studium/s14/masterarbeit/downlo...</td>\n",
       "    </tr>\n",
       "    <tr>\n",
       "      <th>4</th>\n",
       "      <td>5</td>\n",
       "      <td>gohugoio/hugo</td>\n",
       "      <td>https://github.com/gohugoio/hugo.git</td>\n",
       "      <td>43140</td>\n",
       "      <td>4900</td>\n",
       "      <td>11180687</td>\n",
       "      <td>2013-07-04 15:26:26+00:00</td>\n",
       "      <td>2020-04-12 19:12:47+00:00</td>\n",
       "      <td>2020-04-13 11:52:14+00:00</td>\n",
       "      <td>86013</td>\n",
       "      <td>/home/johannes/studium/s14/masterarbeit/downlo...</td>\n",
       "    </tr>\n",
       "  </tbody>\n",
       "</table>\n",
       "</div>"
      ],
      "text/plain": [
       "   project_rank           project_name  \\\n",
       "0             1              golang/go   \n",
       "1             2  kubernetes/kubernetes   \n",
       "2             3              moby/moby   \n",
       "3             4     avelino/awesome-go   \n",
       "4             5          gohugoio/hugo   \n",
       "\n",
       "                       project_github_clone_url  project_number_of_stars  \\\n",
       "0              https://github.com/golang/go.git                    71169   \n",
       "1  https://github.com/kubernetes/kubernetes.git                    64968   \n",
       "2              https://github.com/moby/moby.git                    56804   \n",
       "3     https://github.com/avelino/awesome-go.git                    53411   \n",
       "4          https://github.com/gohugoio/hugo.git                    43140   \n",
       "\n",
       "   project_number_of_forks  project_github_id        project_created_at  \\\n",
       "0                    10164           23096959 2014-08-19 04:33:40+00:00   \n",
       "1                    23144           20580498 2014-06-06 22:56:04+00:00   \n",
       "2                    16416            7691631 2013-01-18 18:10:57+00:00   \n",
       "3                     7088           21540759 2014-07-06 13:42:15+00:00   \n",
       "4                     4900           11180687 2013-07-04 15:26:26+00:00   \n",
       "\n",
       "     project_last_pushed_at        project_updated_at  project_size  \\\n",
       "0 2020-04-13 10:27:46+00:00 2020-04-13 11:58:18+00:00        209324   \n",
       "1 2020-04-13 11:53:02+00:00 2020-04-13 11:17:13+00:00        909251   \n",
       "2 2020-04-12 15:23:23+00:00 2020-04-13 12:00:24+00:00        152827   \n",
       "3 2020-04-13 09:42:24+00:00 2020-04-13 11:56:14+00:00          8027   \n",
       "4 2020-04-12 19:12:47+00:00 2020-04-13 11:52:14+00:00         86013   \n",
       "\n",
       "                               project_checkout_path  \n",
       "0  /home/johannes/studium/s14/masterarbeit/downlo...  \n",
       "1  /home/johannes/studium/s14/masterarbeit/downlo...  \n",
       "2  /home/johannes/studium/s14/masterarbeit/downlo...  \n",
       "3  /home/johannes/studium/s14/masterarbeit/downlo...  \n",
       "4  /home/johannes/studium/s14/masterarbeit/downlo...  "
      ]
     },
     "execution_count": 32,
     "metadata": {},
     "output_type": "execute_result"
    }
   ],
   "source": [
    "projects_df[:5]"
   ]
  },
  {
   "cell_type": "markdown",
   "metadata": {},
   "source": [
    "## Analyse von Match Daten"
   ]
  },
  {
   "cell_type": "code",
   "execution_count": 68,
   "metadata": {},
   "outputs": [],
   "source": [
    "matches_df = pd.read_csv('/home/johannes/studium/s14/masterarbeit/code/data-survey/backup-data/unsafe_matches_2.csv')"
   ]
  },
  {
   "cell_type": "code",
   "execution_count": 69,
   "metadata": {
    "scrolled": true
   },
   "outputs": [
    {
     "data": {
      "text/html": [
       "<div>\n",
       "<style scoped>\n",
       "    .dataframe tbody tr th:only-of-type {\n",
       "        vertical-align: middle;\n",
       "    }\n",
       "\n",
       "    .dataframe tbody tr th {\n",
       "        vertical-align: top;\n",
       "    }\n",
       "\n",
       "    .dataframe thead th {\n",
       "        text-align: right;\n",
       "    }\n",
       "</style>\n",
       "<table border=\"1\" class=\"dataframe\">\n",
       "  <thead>\n",
       "    <tr style=\"text-align: right;\">\n",
       "      <th></th>\n",
       "      <th>project_name</th>\n",
       "      <th>module_import_path</th>\n",
       "      <th>module_registry</th>\n",
       "      <th>module_version</th>\n",
       "      <th>module_number_go_files</th>\n",
       "      <th>file_name</th>\n",
       "      <th>file_size_bytes</th>\n",
       "      <th>file_size_lines</th>\n",
       "      <th>file_imports_unsage_pkg</th>\n",
       "      <th>file_go_vet_output</th>\n",
       "      <th>text</th>\n",
       "      <th>context</th>\n",
       "      <th>line_number</th>\n",
       "      <th>byte_offset</th>\n",
       "      <th>match_type</th>\n",
       "    </tr>\n",
       "  </thead>\n",
       "  <tbody>\n",
       "    <tr>\n",
       "      <th>0</th>\n",
       "      <td>kubernetes/kubernetes</td>\n",
       "      <td>github.com/Azure/go-ansiterm</td>\n",
       "      <td>github.com</td>\n",
       "      <td>NaN</td>\n",
       "      <td>22</td>\n",
       "      <td>winterm/api.go</td>\n",
       "      <td>12469</td>\n",
       "      <td>327</td>\n",
       "      <td>True</td>\n",
       "      <td>NOT-RUN</td>\n",
       "      <td>\\tr1, r2, err := getConsoleCursorInfoProc.Call...</td>\n",
       "      <td>}\\n\\n// GetConsoleCursorInfo retrieves informa...</td>\n",
       "      <td>178</td>\n",
       "      <td>6018</td>\n",
       "      <td>unsafe.Pointer</td>\n",
       "    </tr>\n",
       "    <tr>\n",
       "      <th>1</th>\n",
       "      <td>kubernetes/kubernetes</td>\n",
       "      <td>github.com/Azure/go-ansiterm</td>\n",
       "      <td>github.com</td>\n",
       "      <td>NaN</td>\n",
       "      <td>22</td>\n",
       "      <td>winterm/api.go</td>\n",
       "      <td>12469</td>\n",
       "      <td>327</td>\n",
       "      <td>True</td>\n",
       "      <td>NOT-RUN</td>\n",
       "      <td>\\tr1, r2, err := setConsoleCursorInfoProc.Call...</td>\n",
       "      <td>}\\n\\n// SetConsoleCursorInfo sets the size and...</td>\n",
       "      <td>185</td>\n",
       "      <td>6393</td>\n",
       "      <td>unsafe.Pointer</td>\n",
       "    </tr>\n",
       "    <tr>\n",
       "      <th>2</th>\n",
       "      <td>kubernetes/kubernetes</td>\n",
       "      <td>github.com/Azure/go-ansiterm</td>\n",
       "      <td>github.com</td>\n",
       "      <td>NaN</td>\n",
       "      <td>22</td>\n",
       "      <td>winterm/api.go</td>\n",
       "      <td>12469</td>\n",
       "      <td>327</td>\n",
       "      <td>True</td>\n",
       "      <td>NOT-RUN</td>\n",
       "      <td>\\terr := checkError(getConsoleScreenBufferInfo...</td>\n",
       "      <td>\\n// GetConsoleScreenBufferInfo retrieves info...</td>\n",
       "      <td>216</td>\n",
       "      <td>7792</td>\n",
       "      <td>unsafe.Pointer</td>\n",
       "    </tr>\n",
       "    <tr>\n",
       "      <th>3</th>\n",
       "      <td>kubernetes/kubernetes</td>\n",
       "      <td>github.com/Azure/go-ansiterm</td>\n",
       "      <td>github.com</td>\n",
       "      <td>NaN</td>\n",
       "      <td>22</td>\n",
       "      <td>winterm/api.go</td>\n",
       "      <td>12469</td>\n",
       "      <td>327</td>\n",
       "      <td>True</td>\n",
       "      <td>NOT-RUN</td>\n",
       "      <td>\\tr1, r2, err := scrollConsoleScreenBufferProc...</td>\n",
       "      <td>\\t}\\n\\treturn &amp;info, nil\\n}\\n\\nfunc ScrollCons...</td>\n",
       "      <td>224</td>\n",
       "      <td>8084</td>\n",
       "      <td>unsafe.Pointer</td>\n",
       "    </tr>\n",
       "    <tr>\n",
       "      <th>4</th>\n",
       "      <td>kubernetes/kubernetes</td>\n",
       "      <td>github.com/Azure/go-ansiterm</td>\n",
       "      <td>github.com</td>\n",
       "      <td>NaN</td>\n",
       "      <td>22</td>\n",
       "      <td>winterm/api.go</td>\n",
       "      <td>12469</td>\n",
       "      <td>327</td>\n",
       "      <td>True</td>\n",
       "      <td>NOT-RUN</td>\n",
       "      <td>\\tr1, r2, err := setConsoleWindowInfoProc.Call...</td>\n",
       "      <td>\\n// SetConsoleWindowInfo sets the size and po...</td>\n",
       "      <td>253</td>\n",
       "      <td>9532</td>\n",
       "      <td>unsafe.Pointer</td>\n",
       "    </tr>\n",
       "    <tr>\n",
       "      <th>...</th>\n",
       "      <td>...</td>\n",
       "      <td>...</td>\n",
       "      <td>...</td>\n",
       "      <td>...</td>\n",
       "      <td>...</td>\n",
       "      <td>...</td>\n",
       "      <td>...</td>\n",
       "      <td>...</td>\n",
       "      <td>...</td>\n",
       "      <td>...</td>\n",
       "      <td>...</td>\n",
       "      <td>...</td>\n",
       "      <td>...</td>\n",
       "      <td>...</td>\n",
       "      <td>...</td>\n",
       "    </tr>\n",
       "    <tr>\n",
       "      <th>140340</th>\n",
       "      <td>ethereum/go-ethereum</td>\n",
       "      <td>github.com/mattn/go-colorable</td>\n",
       "      <td>github.com</td>\n",
       "      <td>NaN</td>\n",
       "      <td>4</td>\n",
       "      <td>colorable_windows.go</td>\n",
       "      <td>23106</td>\n",
       "      <td>980</td>\n",
       "      <td>True</td>\n",
       "      <td>NOT-RUN</td>\n",
       "      <td>\\t\\t\\tprocGetConsoleScreenBufferInfo.Call(uint...</td>\n",
       "      <td>\\t\\t\\t}\\n\\t\\t\\tprocGetConsoleScreenBufferInfo....</td>\n",
       "      <td>564</td>\n",
       "      <td>11887</td>\n",
       "      <td>uintptr</td>\n",
       "    </tr>\n",
       "    <tr>\n",
       "      <th>140341</th>\n",
       "      <td>ethereum/go-ethereum</td>\n",
       "      <td>github.com/mattn/go-colorable</td>\n",
       "      <td>github.com</td>\n",
       "      <td>NaN</td>\n",
       "      <td>4</td>\n",
       "      <td>colorable_windows.go</td>\n",
       "      <td>23106</td>\n",
       "      <td>980</td>\n",
       "      <td>True</td>\n",
       "      <td>NOT-RUN</td>\n",
       "      <td>\\t\\t\\tprocSetConsoleCursorPosition.Call(uintpt...</td>\n",
       "      <td>\\t\\t\\t\\t\\tcsbi.cursorPosition.y = short(n1 - 1...</td>\n",
       "      <td>589</td>\n",
       "      <td>12519</td>\n",
       "      <td>uintptr</td>\n",
       "    </tr>\n",
       "    <tr>\n",
       "      <th>140342</th>\n",
       "      <td>ethereum/go-ethereum</td>\n",
       "      <td>github.com/mattn/go-colorable</td>\n",
       "      <td>github.com</td>\n",
       "      <td>NaN</td>\n",
       "      <td>4</td>\n",
       "      <td>colorable_windows.go</td>\n",
       "      <td>23106</td>\n",
       "      <td>980</td>\n",
       "      <td>True</td>\n",
       "      <td>NOT-RUN</td>\n",
       "      <td>\\t\\t\\tprocGetConsoleScreenBufferInfo.Call(uint...</td>\n",
       "      <td>\\t\\t\\t\\t\\tcontinue\\n\\t\\t\\t\\t}\\n\\t\\t\\t}\\n\\t\\t\\t...</td>\n",
       "      <td>600</td>\n",
       "      <td>12801</td>\n",
       "      <td>uintptr</td>\n",
       "    </tr>\n",
       "    <tr>\n",
       "      <th>140343</th>\n",
       "      <td>ethereum/go-ethereum</td>\n",
       "      <td>github.com/mattn/go-colorable</td>\n",
       "      <td>github.com</td>\n",
       "      <td>NaN</td>\n",
       "      <td>4</td>\n",
       "      <td>colorable_windows.go</td>\n",
       "      <td>23106</td>\n",
       "      <td>980</td>\n",
       "      <td>True</td>\n",
       "      <td>NOT-RUN</td>\n",
       "      <td>\\t\\t\\tprocFillConsoleOutputCharacter.Call(uint...</td>\n",
       "      <td>\\t\\t\\t\\tcount = dword(csbi.size.x) - dword(csb...</td>\n",
       "      <td>612</td>\n",
       "      <td>13508</td>\n",
       "      <td>uintptr</td>\n",
       "    </tr>\n",
       "    <tr>\n",
       "      <th>140344</th>\n",
       "      <td>ethereum/go-ethereum</td>\n",
       "      <td>github.com/mattn/go-colorable</td>\n",
       "      <td>github.com</td>\n",
       "      <td>NaN</td>\n",
       "      <td>4</td>\n",
       "      <td>colorable_windows.go</td>\n",
       "      <td>23106</td>\n",
       "      <td>980</td>\n",
       "      <td>True</td>\n",
       "      <td>NOT-RUN</td>\n",
       "      <td>\\t\\t\\tprocFillConsoleOutputAttribute.Call(uint...</td>\n",
       "      <td>\\t\\t\\tcase 2:\\n\\t\\t\\t\\tcursor = coord{x: csbi....</td>\n",
       "      <td>613</td>\n",
       "      <td>13667</td>\n",
       "      <td>uintptr</td>\n",
       "    </tr>\n",
       "  </tbody>\n",
       "</table>\n",
       "<p>140345 rows × 15 columns</p>\n",
       "</div>"
      ],
      "text/plain": [
       "                 project_name             module_import_path module_registry  \\\n",
       "0       kubernetes/kubernetes   github.com/Azure/go-ansiterm      github.com   \n",
       "1       kubernetes/kubernetes   github.com/Azure/go-ansiterm      github.com   \n",
       "2       kubernetes/kubernetes   github.com/Azure/go-ansiterm      github.com   \n",
       "3       kubernetes/kubernetes   github.com/Azure/go-ansiterm      github.com   \n",
       "4       kubernetes/kubernetes   github.com/Azure/go-ansiterm      github.com   \n",
       "...                       ...                            ...             ...   \n",
       "140340   ethereum/go-ethereum  github.com/mattn/go-colorable      github.com   \n",
       "140341   ethereum/go-ethereum  github.com/mattn/go-colorable      github.com   \n",
       "140342   ethereum/go-ethereum  github.com/mattn/go-colorable      github.com   \n",
       "140343   ethereum/go-ethereum  github.com/mattn/go-colorable      github.com   \n",
       "140344   ethereum/go-ethereum  github.com/mattn/go-colorable      github.com   \n",
       "\n",
       "        module_version  module_number_go_files             file_name  \\\n",
       "0                  NaN                      22        winterm/api.go   \n",
       "1                  NaN                      22        winterm/api.go   \n",
       "2                  NaN                      22        winterm/api.go   \n",
       "3                  NaN                      22        winterm/api.go   \n",
       "4                  NaN                      22        winterm/api.go   \n",
       "...                ...                     ...                   ...   \n",
       "140340             NaN                       4  colorable_windows.go   \n",
       "140341             NaN                       4  colorable_windows.go   \n",
       "140342             NaN                       4  colorable_windows.go   \n",
       "140343             NaN                       4  colorable_windows.go   \n",
       "140344             NaN                       4  colorable_windows.go   \n",
       "\n",
       "        file_size_bytes  file_size_lines  file_imports_unsage_pkg  \\\n",
       "0                 12469              327                     True   \n",
       "1                 12469              327                     True   \n",
       "2                 12469              327                     True   \n",
       "3                 12469              327                     True   \n",
       "4                 12469              327                     True   \n",
       "...                 ...              ...                      ...   \n",
       "140340            23106              980                     True   \n",
       "140341            23106              980                     True   \n",
       "140342            23106              980                     True   \n",
       "140343            23106              980                     True   \n",
       "140344            23106              980                     True   \n",
       "\n",
       "       file_go_vet_output                                               text  \\\n",
       "0                 NOT-RUN  \\tr1, r2, err := getConsoleCursorInfoProc.Call...   \n",
       "1                 NOT-RUN  \\tr1, r2, err := setConsoleCursorInfoProc.Call...   \n",
       "2                 NOT-RUN  \\terr := checkError(getConsoleScreenBufferInfo...   \n",
       "3                 NOT-RUN  \\tr1, r2, err := scrollConsoleScreenBufferProc...   \n",
       "4                 NOT-RUN  \\tr1, r2, err := setConsoleWindowInfoProc.Call...   \n",
       "...                   ...                                                ...   \n",
       "140340            NOT-RUN  \\t\\t\\tprocGetConsoleScreenBufferInfo.Call(uint...   \n",
       "140341            NOT-RUN  \\t\\t\\tprocSetConsoleCursorPosition.Call(uintpt...   \n",
       "140342            NOT-RUN  \\t\\t\\tprocGetConsoleScreenBufferInfo.Call(uint...   \n",
       "140343            NOT-RUN  \\t\\t\\tprocFillConsoleOutputCharacter.Call(uint...   \n",
       "140344            NOT-RUN  \\t\\t\\tprocFillConsoleOutputAttribute.Call(uint...   \n",
       "\n",
       "                                                  context  line_number  \\\n",
       "0       }\\n\\n// GetConsoleCursorInfo retrieves informa...          178   \n",
       "1       }\\n\\n// SetConsoleCursorInfo sets the size and...          185   \n",
       "2       \\n// GetConsoleScreenBufferInfo retrieves info...          216   \n",
       "3       \\t}\\n\\treturn &info, nil\\n}\\n\\nfunc ScrollCons...          224   \n",
       "4       \\n// SetConsoleWindowInfo sets the size and po...          253   \n",
       "...                                                   ...          ...   \n",
       "140340  \\t\\t\\t}\\n\\t\\t\\tprocGetConsoleScreenBufferInfo....          564   \n",
       "140341  \\t\\t\\t\\t\\tcsbi.cursorPosition.y = short(n1 - 1...          589   \n",
       "140342  \\t\\t\\t\\t\\tcontinue\\n\\t\\t\\t\\t}\\n\\t\\t\\t}\\n\\t\\t\\t...          600   \n",
       "140343  \\t\\t\\t\\tcount = dword(csbi.size.x) - dword(csb...          612   \n",
       "140344  \\t\\t\\tcase 2:\\n\\t\\t\\t\\tcursor = coord{x: csbi....          613   \n",
       "\n",
       "        byte_offset      match_type  \n",
       "0              6018  unsafe.Pointer  \n",
       "1              6393  unsafe.Pointer  \n",
       "2              7792  unsafe.Pointer  \n",
       "3              8084  unsafe.Pointer  \n",
       "4              9532  unsafe.Pointer  \n",
       "...             ...             ...  \n",
       "140340        11887         uintptr  \n",
       "140341        12519         uintptr  \n",
       "140342        12801         uintptr  \n",
       "140343        13508         uintptr  \n",
       "140344        13667         uintptr  \n",
       "\n",
       "[140345 rows x 15 columns]"
      ]
     },
     "execution_count": 69,
     "metadata": {},
     "output_type": "execute_result"
    }
   ],
   "source": [
    "matches_df"
   ]
  },
  {
   "cell_type": "code",
   "execution_count": 70,
   "metadata": {
    "scrolled": true
   },
   "outputs": [
    {
     "name": "stdout",
     "output_type": "stream",
     "text": [
      "r1, r2, err := getConsoleCursorInfoProc.Call(handle, uintptr(unsafe.Pointer(cursorInfo)), 0)\n",
      "\n",
      "r1, r2, err := setConsoleCursorInfoProc.Call(handle, uintptr(unsafe.Pointer(cursorInfo)), 0)\n",
      "\n",
      "err := checkError(getConsoleScreenBufferInfoProc.Call(handle, uintptr(unsafe.Pointer(&info)), 0))\n",
      "\n",
      "r1, r2, err := scrollConsoleScreenBufferProc.Call(handle, uintptr(unsafe.Pointer(&scrollRect)), uintptr(unsafe.Pointer(&clipRect)), coordToPointer(destOrigin), uintptr(unsafe.Pointer(&char)))\n",
      "\n",
      "r1, r2, err := setConsoleWindowInfoProc.Call(handle, uintptr(boolToBOOL(isAbsolute)), uintptr(unsafe.Pointer(&rect)))\n",
      "\n",
      "r1, r2, err := writeConsoleOutputProc.Call(handle, uintptr(unsafe.Pointer(&buffer[0])), coordToPointer(bufferSize), coordToPointer(bufferCoord), uintptr(unsafe.Pointer(writeRegion)))\n",
      "\n",
      "r1, r2, err := readConsoleInputProc.Call(handle, uintptr(unsafe.Pointer(&buffer[0])), uintptr(len(buffer)), uintptr(unsafe.Pointer(count)))\n",
      "\n",
      "return uintptr(*((*uint32)(unsafe.Pointer(&c))))\n",
      "\n",
      "func GetConsoleCursorInfo(handle uintptr, cursorInfo *CONSOLE_CURSOR_INFO) error {\n",
      "\n",
      "r1, r2, err := getConsoleCursorInfoProc.Call(handle, uintptr(unsafe.Pointer(cursorInfo)), 0)\n"
     ]
    }
   ],
   "source": [
    "# 10 examples of an unsafe.Pointer match\n",
    "\n",
    "print(\"\\n\\n\".join([s.strip() for s in list(matches_df['text'][:10])]))"
   ]
  },
  {
   "cell_type": "code",
   "execution_count": 71,
   "metadata": {
    "scrolled": true
   },
   "outputs": [
    {
     "name": "stdout",
     "output_type": "stream",
     "text": [
      "}\n",
      "\n",
      "// GetConsoleCursorInfo retrieves information about the size and visiblity of the console cursor.\n",
      "// See https://msdn.microsoft.com/en-us/library/windows/desktop/ms683163(v=vs.85).aspx.\n",
      "func GetConsoleCursorInfo(handle uintptr, cursorInfo *CONSOLE_CURSOR_INFO) error {\n",
      "\tr1, r2, err := getConsoleCursorInfoProc.Call(handle, uintptr(unsafe.Pointer(cursorInfo)), 0)\n",
      "\treturn checkError(r1, r2, err)\n",
      "}\n",
      "\n",
      "// SetConsoleCursorInfo sets the size and visiblity of the console cursor.\n",
      "// See https://msdn.microsoft.com/en-us/library/windows/desktop/ms686019(v=vs.85).aspx.\n",
      "\n"
     ]
    }
   ],
   "source": [
    "# 1 example of a match context\n",
    "\n",
    "print(matches_df['context'][0])"
   ]
  },
  {
   "cell_type": "markdown",
   "metadata": {},
   "source": [
    "## Analyse von Moduldaten"
   ]
  },
  {
   "cell_type": "code",
   "execution_count": 54,
   "metadata": {},
   "outputs": [],
   "source": [
    "modules_df = pd.read_csv('/home/johannes/studium/s14/masterarbeit/code/data-survey/backup-data/modules.csv')"
   ]
  },
  {
   "cell_type": "code",
   "execution_count": 55,
   "metadata": {},
   "outputs": [
    {
     "data": {
      "text/html": [
       "<div>\n",
       "<style scoped>\n",
       "    .dataframe tbody tr th:only-of-type {\n",
       "        vertical-align: middle;\n",
       "    }\n",
       "\n",
       "    .dataframe tbody tr th {\n",
       "        vertical-align: top;\n",
       "    }\n",
       "\n",
       "    .dataframe thead th {\n",
       "        text-align: right;\n",
       "    }\n",
       "</style>\n",
       "<table border=\"1\" class=\"dataframe\">\n",
       "  <thead>\n",
       "    <tr style=\"text-align: right;\">\n",
       "      <th></th>\n",
       "      <th>project_name</th>\n",
       "      <th>module_import_path</th>\n",
       "      <th>module_registry</th>\n",
       "      <th>module_version</th>\n",
       "      <th>module_number_go_files</th>\n",
       "    </tr>\n",
       "  </thead>\n",
       "  <tbody>\n",
       "    <tr>\n",
       "      <th>0</th>\n",
       "      <td>kubernetes/kubernetes</td>\n",
       "      <td>bitbucket.org/bertimus9/systemstat</td>\n",
       "      <td>bitbucket.org</td>\n",
       "      <td>NaN</td>\n",
       "      <td>4</td>\n",
       "    </tr>\n",
       "    <tr>\n",
       "      <th>1</th>\n",
       "      <td>kubernetes/kubernetes</td>\n",
       "      <td>cloud.google.com/go/compute/metadata</td>\n",
       "      <td>cloud.google.com</td>\n",
       "      <td>NaN</td>\n",
       "      <td>1</td>\n",
       "    </tr>\n",
       "    <tr>\n",
       "      <th>2</th>\n",
       "      <td>kubernetes/kubernetes</td>\n",
       "      <td>github.com/armon/circbuf</td>\n",
       "      <td>github.com</td>\n",
       "      <td>NaN</td>\n",
       "      <td>1</td>\n",
       "    </tr>\n",
       "    <tr>\n",
       "      <th>3</th>\n",
       "      <td>kubernetes/kubernetes</td>\n",
       "      <td>github.com/asaskevich/govalidator</td>\n",
       "      <td>github.com</td>\n",
       "      <td>NaN</td>\n",
       "      <td>8</td>\n",
       "    </tr>\n",
       "    <tr>\n",
       "      <th>4</th>\n",
       "      <td>kubernetes/kubernetes</td>\n",
       "      <td>github.com/aws/aws-sdk-go/aws</td>\n",
       "      <td>github.com</td>\n",
       "      <td>NaN</td>\n",
       "      <td>86</td>\n",
       "    </tr>\n",
       "    <tr>\n",
       "      <th>...</th>\n",
       "      <td>...</td>\n",
       "      <td>...</td>\n",
       "      <td>...</td>\n",
       "      <td>...</td>\n",
       "      <td>...</td>\n",
       "    </tr>\n",
       "    <tr>\n",
       "      <th>2354</th>\n",
       "      <td>gogs/gogs</td>\n",
       "      <td>gopkg.in/gomail.v2</td>\n",
       "      <td>gopkg.in</td>\n",
       "      <td>NaN</td>\n",
       "      <td>8</td>\n",
       "    </tr>\n",
       "    <tr>\n",
       "      <th>2355</th>\n",
       "      <td>gogs/gogs</td>\n",
       "      <td>gopkg.in/ini.v1</td>\n",
       "      <td>gopkg.in</td>\n",
       "      <td>NaN</td>\n",
       "      <td>10</td>\n",
       "    </tr>\n",
       "    <tr>\n",
       "      <th>2356</th>\n",
       "      <td>gogs/gogs</td>\n",
       "      <td>gopkg.in/ldap.v2</td>\n",
       "      <td>gopkg.in</td>\n",
       "      <td>NaN</td>\n",
       "      <td>18</td>\n",
       "    </tr>\n",
       "    <tr>\n",
       "      <th>2357</th>\n",
       "      <td>gogs/gogs</td>\n",
       "      <td>gopkg.in/macaron.v1</td>\n",
       "      <td>gopkg.in</td>\n",
       "      <td>NaN</td>\n",
       "      <td>12</td>\n",
       "    </tr>\n",
       "    <tr>\n",
       "      <th>2358</th>\n",
       "      <td>gogs/gogs</td>\n",
       "      <td>gopkg.in/redis.v2</td>\n",
       "      <td>gopkg.in</td>\n",
       "      <td>NaN</td>\n",
       "      <td>13</td>\n",
       "    </tr>\n",
       "  </tbody>\n",
       "</table>\n",
       "<p>2359 rows × 5 columns</p>\n",
       "</div>"
      ],
      "text/plain": [
       "               project_name                    module_import_path  \\\n",
       "0     kubernetes/kubernetes    bitbucket.org/bertimus9/systemstat   \n",
       "1     kubernetes/kubernetes  cloud.google.com/go/compute/metadata   \n",
       "2     kubernetes/kubernetes              github.com/armon/circbuf   \n",
       "3     kubernetes/kubernetes     github.com/asaskevich/govalidator   \n",
       "4     kubernetes/kubernetes         github.com/aws/aws-sdk-go/aws   \n",
       "...                     ...                                   ...   \n",
       "2354              gogs/gogs                    gopkg.in/gomail.v2   \n",
       "2355              gogs/gogs                       gopkg.in/ini.v1   \n",
       "2356              gogs/gogs                      gopkg.in/ldap.v2   \n",
       "2357              gogs/gogs                   gopkg.in/macaron.v1   \n",
       "2358              gogs/gogs                     gopkg.in/redis.v2   \n",
       "\n",
       "       module_registry  module_version  module_number_go_files  \n",
       "0        bitbucket.org             NaN                       4  \n",
       "1     cloud.google.com             NaN                       1  \n",
       "2           github.com             NaN                       1  \n",
       "3           github.com             NaN                       8  \n",
       "4           github.com             NaN                      86  \n",
       "...                ...             ...                     ...  \n",
       "2354          gopkg.in             NaN                       8  \n",
       "2355          gopkg.in             NaN                      10  \n",
       "2356          gopkg.in             NaN                      18  \n",
       "2357          gopkg.in             NaN                      12  \n",
       "2358          gopkg.in             NaN                      13  \n",
       "\n",
       "[2359 rows x 5 columns]"
      ]
     },
     "execution_count": 55,
     "metadata": {},
     "output_type": "execute_result"
    }
   ],
   "source": [
    "modules_df"
   ]
  },
  {
   "cell_type": "markdown",
   "metadata": {},
   "source": [
    "# Auswertungen"
   ]
  },
  {
   "cell_type": "markdown",
   "metadata": {},
   "source": [
    "## Anzahl von unsafe usages nach Projekt"
   ]
  },
  {
   "cell_type": "code",
   "execution_count": 122,
   "metadata": {},
   "outputs": [
    {
     "data": {
      "text/plain": [
       "<matplotlib.axes._subplots.AxesSubplot at 0x7f05c7b75850>"
      ]
     },
     "execution_count": 122,
     "metadata": {},
     "output_type": "execute_result"
    },
    {
     "data": {
      "image/png": "[encoded data removed]",
      "text/plain": [
       "<Figure size 432x288 with 1 Axes>"
      ]
     },
     "metadata": {
      "needs_background": "light"
     },
     "output_type": "display_data"
    }
   ],
   "source": [
    "matches_df\\\n",
    "    .where(matches_df['match_type']=='unsafe.Pointer')\\\n",
    "    .groupby('project_name')['project_name'].count()\\\n",
    "    .sort_values(ascending=True).plot.barh(title='Number of unsafe.Pointer usages per project')"
   ]
  },
  {
   "cell_type": "markdown",
   "metadata": {},
   "source": [
    "## Anzahl von unsafe usages nach Modul"
   ]
  },
  {
   "cell_type": "code",
   "execution_count": 218,
   "metadata": {},
   "outputs": [
    {
     "data": {
      "text/plain": [
       "<matplotlib.axes._subplots.AxesSubplot at 0x7f05c72e1eb0>"
      ]
     },
     "execution_count": 218,
     "metadata": {},
     "output_type": "execute_result"
    },
    {
     "data": {
      "image/png": "[encoded data removed]",
      "text/plain": [
       "<Figure size 432x288 with 1 Axes>"
      ]
     },
     "metadata": {
      "needs_background": "light"
     },
     "output_type": "display_data"
    }
   ],
   "source": [
    "matches_df\\\n",
    "    .where(matches_df['match_type']=='unsafe.Pointer')\\\n",
    "    .groupby(['module_import_path', 'project_name'])['module_import_path'].count()\\\n",
    "    .groupby('module_import_path').max()\\\n",
    "    .sort_values(ascending=True)[-20:]\\\n",
    "    .plot.barh(logx=True, title='Log number of unsafe.Pointer usages per module')"
   ]
  },
  {
   "cell_type": "code",
   "execution_count": 219,
   "metadata": {
    "scrolled": false
   },
   "outputs": [
    {
     "data": {
      "text/plain": [
       "module_import_path\n",
       "golang.org/x/sys/unix                                            6466\n",
       "golang.org/x/sys/windows                                          346\n",
       "github.com/go-ole/go-ole                                          211\n",
       "github.com/json-iterator/go                                       191\n",
       "github.com/modern-go/reflect2                                     142\n",
       "github.com/ugorji/go/codec                                        137\n",
       "github.com/vishvananda/netlink                                    131\n",
       "k8s.io/apiextensions-apiserver/pkg/apis/apiextensions             124\n",
       "github.com/vishvananda/netlink/nl                                 119\n",
       "k8s.io/apiserver/pkg/apis/audit                                   114\n",
       "github.com/Microsoft/hcsshim                                       86\n",
       "github.com/mattn/go-sqlite3                                        75\n",
       "k8s.io/apiextensions-apiserver/pkg/apis/apiextensions/v1beta1      66\n",
       "k8s.io/apiextensions-apiserver/pkg/apis/apiextensions/v1           58\n",
       "golang.org/x/net/internal/socket                                   57\n",
       "Name: module_import_path, dtype: int64"
      ]
     },
     "execution_count": 219,
     "metadata": {},
     "output_type": "execute_result"
    }
   ],
   "source": [
    "matches_df\\\n",
    "    .where(matches_df['match_type']=='unsafe.Pointer')\\\n",
    "    .groupby(['module_import_path', 'project_name'])['module_import_path'].count()\\\n",
    "    .groupby('module_import_path').max()\\\n",
    "    .sort_values(ascending=False)[:15]"
   ]
  },
  {
   "cell_type": "markdown",
   "metadata": {},
   "source": [
    "Wir sehen einen unglaublich großen Vorsprung des `sys` Packages, das durch sehr viele Wrapper-Calls um C-Library Funktionen kommt. Dieses Paket sollte bei Analysen vielleicht ausgenommen werden."
   ]
  },
  {
   "cell_type": "code",
   "execution_count": 258,
   "metadata": {},
   "outputs": [
    {
     "data": {
      "text/plain": [
       "<matplotlib.axes._subplots.AxesSubplot at 0x7f05c68c2430>"
      ]
     },
     "execution_count": 258,
     "metadata": {},
     "output_type": "execute_result"
    },
    {
     "data": {
      "image/png": "[encoded data removed]",
      "text/plain": [
       "<Figure size 432x288 with 1 Axes>"
      ]
     },
     "metadata": {
      "needs_background": "light"
     },
     "output_type": "display_data"
    }
   ],
   "source": [
    "matches_df\\\n",
    "    .where(matches_df['match_type']=='unsafe.Pointer')\\\n",
    "    .where(matches_df['module_import_path']!='golang.org/x/sys/unix')\\\n",
    "    .where(matches_df['module_import_path']!='golang.org/x/sys/windows')\\\n",
    "    .groupby(['module_import_path', 'project_name'])['module_import_path'].count()\\\n",
    "    .groupby('module_import_path').max()\\\n",
    "    .sort_values(ascending=True)[-20:]\\\n",
    "    .plot.barh(title='Number of unsafe.Pointer usages per module (without sys)')"
   ]
  },
  {
   "cell_type": "markdown",
   "metadata": {},
   "source": [
    "## Anzahl von unsafe.Pointer usages pro Registry"
   ]
  },
  {
   "cell_type": "code",
   "execution_count": 259,
   "metadata": {
    "scrolled": false
   },
   "outputs": [
    {
     "data": {
      "text/plain": [
       "<matplotlib.axes._subplots.AxesSubplot at 0x7f05c685b430>"
      ]
     },
     "execution_count": 259,
     "metadata": {},
     "output_type": "execute_result"
    },
    {
     "data": {
      "image/png": "[encoded data removed]",
      "text/plain": [
       "<Figure size 432x288 with 1 Axes>"
      ]
     },
     "metadata": {
      "needs_background": "light"
     },
     "output_type": "display_data"
    }
   ],
   "source": [
    "matches_df\\\n",
    "    .where(matches_df['match_type']=='unsafe.Pointer')\\\n",
    "    .groupby(['module_registry', 'module_import_path', 'project_name'])['module_registry'].count()\\\n",
    "    .groupby(['module_registry', 'module_import_path']).max()\\\n",
    "    .groupby('module_registry').sum()\\\n",
    "    .sort_values(ascending=True).plot.barh(title='Number of unsafe.Pointer usages in modules of registry')"
   ]
  },
  {
   "cell_type": "code",
   "execution_count": 237,
   "metadata": {},
   "outputs": [
    {
     "data": {
      "text/plain": [
       "module_registry\n",
       "golang.org/x       7006\n",
       "github.com         1872\n",
       "k8s.io              773\n",
       "go.etcd.io           58\n",
       "gopkg.in             14\n",
       "gonum.org             8\n",
       "honnef.co             7\n",
       "howett.net            2\n",
       "go.starlark.net       2\n",
       "sigs.k8s.io           1\n",
       "Name: module_registry, dtype: int64"
      ]
     },
     "execution_count": 237,
     "metadata": {},
     "output_type": "execute_result"
    }
   ],
   "source": [
    "matches_df\\\n",
    "    .where(matches_df['match_type']=='unsafe.Pointer')\\\n",
    "    .groupby(['module_registry', 'module_import_path', 'project_name'])['module_registry'].count()\\\n",
    "    .groupby(['module_registry', 'module_import_path']).max()\\\n",
    "    .groupby('module_registry').sum()\\\n",
    "    .sort_values(ascending=False)"
   ]
  },
  {
   "cell_type": "markdown",
   "metadata": {},
   "source": [
    "Wir sehen eine riesige Häufung in der `golang.org/x` Registry, die allerdings nur durch das `sys` Package erzeugt wird."
   ]
  },
  {
   "cell_type": "markdown",
   "metadata": {},
   "source": [
    "## Unterschiedliche Anzahl von unsafe.Pointer usages in der gleichen Bibliothek"
   ]
  },
  {
   "cell_type": "code",
   "execution_count": 239,
   "metadata": {
    "scrolled": false
   },
   "outputs": [
    {
     "data": {
      "text/plain": [
       "<matplotlib.axes._subplots.AxesSubplot at 0x7f05c6f5a670>"
      ]
     },
     "execution_count": 239,
     "metadata": {},
     "output_type": "execute_result"
    },
    {
     "data": {
      "image/png": "[encoded data removed]",
      "text/plain": [
       "<Figure size 432x288 with 1 Axes>"
      ]
     },
     "metadata": {
      "needs_background": "light"
     },
     "output_type": "display_data"
    }
   ],
   "source": [
    "matches_df\\\n",
    "    .where(matches_df['match_type']=='unsafe.Pointer')\\\n",
    "    .where(matches_df['module_import_path']=='golang.org/x/sys/unix')\\\n",
    "    .groupby('project_name')['project_name'].count()\\\n",
    "    .sort_values(ascending=True).plot.barh(title='Number of unsafe usages in versions of sys/unix per project')"
   ]
  },
  {
   "cell_type": "code",
   "execution_count": 247,
   "metadata": {},
   "outputs": [
    {
     "data": {
      "text/plain": [
       "project_name\n",
       "junegunn/fzf             6466\n",
       "gogs/gogs                6466\n",
       "fatedier/frp             6466\n",
       "etcd-io/etcd             6466\n",
       "gohugoio/hugo            6462\n",
       "gin-gonic/gin            6460\n",
       "kubernetes/kubernetes    6216\n",
       "v2ray/v2ray-core         5990\n",
       "caddyserver/caddy        4451\n",
       "prometheus/prometheus    4438\n",
       "Name: project_name, dtype: int64"
      ]
     },
     "execution_count": 247,
     "metadata": {},
     "output_type": "execute_result"
    }
   ],
   "source": [
    "matches_df\\\n",
    "    .where(matches_df['match_type']=='unsafe.Pointer')\\\n",
    "    .where(matches_df['module_import_path']=='golang.org/x/sys/unix')\\\n",
    "    .groupby('project_name')['project_name'].count()\\\n",
    "    .sort_values(ascending=False)"
   ]
  },
  {
   "cell_type": "markdown",
   "metadata": {},
   "source": [
    "Mögliche Gründe:\n",
    "\n",
    " - nicht alle Dateien des Moduls werden von `go mod vendor` kopiert, sondern nur die benötigten\n",
    " - es handelt sich um unterschiedliche Versionen von sys/unix"
   ]
  },
  {
   "cell_type": "markdown",
   "metadata": {},
   "source": [
    "## Anzahl von unsafe.Pointer usages pro Datei"
   ]
  },
  {
   "cell_type": "code",
   "execution_count": null,
   "metadata": {},
   "outputs": [],
   "source": []
  },
  {
   "cell_type": "markdown",
   "metadata": {},
   "source": [
    "## Wie oft werden Module importiert? (Beliebtheit)"
   ]
  },
  {
   "cell_type": "code",
   "execution_count": null,
   "metadata": {},
   "outputs": [],
   "source": []
  },
  {
   "cell_type": "markdown",
   "metadata": {},
   "source": [
    "## Verteilung unsafe.Pointer usage auf Stars/Forks/LastPushAge"
   ]
  },
  {
   "cell_type": "code",
   "execution_count": null,
   "metadata": {},
   "outputs": [],
   "source": []
  },
  {
   "cell_type": "markdown",
   "metadata": {},
   "source": [
    "## Prozentsatz von unsafe.Pointer nutzenden Dateien pro Modul"
   ]
  },
  {
   "cell_type": "code",
   "execution_count": null,
   "metadata": {},
   "outputs": [],
   "source": []
  },
  {
   "cell_type": "markdown",
   "metadata": {},
   "source": [
    "## Verteilung von unsafe auf verschiedene match types"
   ]
  },
  {
   "cell_type": "markdown",
   "metadata": {},
   "source": []
  },
  {
   "cell_type": "markdown",
   "metadata": {},
   "source": [
    "## Vet Ergebnisse pro Modul"
   ]
  },
  {
   "cell_type": "code",
   "execution_count": null,
   "metadata": {},
   "outputs": [],
   "source": []
  },
  {
   "cell_type": "markdown",
   "metadata": {},
   "source": [
    "## Vet Ergebnisse pro Projekt"
   ]
  },
  {
   "cell_type": "code",
   "execution_count": null,
   "metadata": {},
   "outputs": [],
   "source": []
  },
  {
   "cell_type": "markdown",
   "metadata": {},
   "source": [
    "## Vet Ergebnisse im Zusammenhang mit unsafe"
   ]
  },
  {
   "cell_type": "code",
   "execution_count": null,
   "metadata": {},
   "outputs": [],
   "source": []
  },
  {
   "cell_type": "markdown",
   "metadata": {},
   "source": [
    "## Anzahl unsafe.Pointer usages, die von Vet erkannt wurden"
   ]
  },
  {
   "cell_type": "code",
   "execution_count": null,
   "metadata": {},
   "outputs": [],
   "source": []
  },
  {
   "cell_type": "markdown",
   "metadata": {},
   "source": [
    "## Scratch Space"
   ]
  },
  {
   "cell_type": "code",
   "execution_count": 246,
   "metadata": {
    "scrolled": true
   },
   "outputs": [
    {
     "data": {
      "text/plain": [
       "'Hi'"
      ]
     },
     "execution_count": 246,
     "metadata": {},
     "output_type": "execute_result"
    }
   ],
   "source": [
    "\"Hi\""
   ]
  }
 ],
 "metadata": {
  "kernelspec": {
   "display_name": "Python 3",
   "language": "python",
   "name": "python3"
  }
 },
 "nbformat": 4,
 "nbformat_minor": 2
}
