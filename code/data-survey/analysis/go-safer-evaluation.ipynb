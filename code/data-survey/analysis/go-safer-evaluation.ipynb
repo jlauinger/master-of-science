{
 "cells": [
  {
   "cell_type": "code",
   "execution_count": 1,
   "metadata": {},
   "outputs": [],
   "source": [
    "import numpy as np\n",
    "import pandas as pd\n",
    "import matplotlib\n",
    "from matplotlib import pyplot as plt\n",
    "import tikzplotlib\n",
    "import seaborn as sns\n",
    "\n",
    "import json\n",
    "from datetime import datetime"
   ]
  },
  {
   "cell_type": "code",
   "execution_count": 2,
   "metadata": {},
   "outputs": [],
   "source": [
    "projects_df = pd.read_csv('/root/data/projects.csv',\n",
    "                         parse_dates=['project_created_at', 'project_last_pushed_at', 'project_updated_at'])\n",
    "projects_df['project_revision'] = projects_df.apply(lambda x: x['project_revision'][:10], axis=1)\n",
    "packages_df = pd.read_csv('/root/data/packages_0_499.csv').dropna()\n",
    "geiger_df = pd.read_csv('/root/data/geiger/geiger_findings_0_499.csv')\n",
    "sampled_usages_app = pd.read_csv('/root/data/classification/sampled_usages_app.csv')\n",
    "sampled_usages_std = pd.read_csv('/root/data/classification/sampled_usages_std.csv')"
   ]
  },
  {
   "cell_type": "markdown",
   "metadata": {},
   "source": [
    "# Evaluation 1: with labeled data set"
   ]
  },
  {
   "cell_type": "code",
   "execution_count": 101,
   "metadata": {},
   "outputs": [
    {
     "name": "stdout",
     "output_type": "stream",
     "text": [
      "bytestostr.go:21 in package github.com/mailru/easyjson/jlexer of module github.com/mailru/easyjson\n",
      "\n",
      "github.com/mailru/easyjson@v0.7.0/jlexer/bytestostr.go\n",
      "\n",
      "//\n",
      "// Warning: the string returned by the function should be used with care, as the whole input data\n",
      "// chunk may be either blocked from being freed by GC because of a single string or the buffer.Data\n",
      "// may be garbage-collected even when the string exists.\n",
      "func bytesToStr(data []byte) string {\n",
      "\th := (*reflect.SliceHeader)(unsafe.Pointer(&data))\n",
      "\tshdr := reflect.StringHeader{Data: h.Data, Len: h.Len}\n",
      "\treturn *(*string)(unsafe.Pointer(&shdr))\n",
      "}\n"
     ]
    }
   ],
   "source": [
    "index = 39\n",
    "\n",
    "snippet = sampled_usages_app[sampled_usages_app['label']=='cast-header'].iloc[index]\n",
    "\n",
    "print(\"{}:{} in package {} of module {}\\n\".format(\n",
    "    snippet['file_name'], int(snippet['line_number']), snippet['package_import_path'], snippet['module_path']))\n",
    "\n",
    "print(\"{}@{}/{}/{}\\n\".format(snippet['module_path'], snippet['module_version'], \n",
    "                          snippet['package_import_path'][len(snippet['module_path'])+1:], snippet['file_name']))\n",
    "\n",
    "print(snippet['context'])"
   ]
  },
  {
   "cell_type": "markdown",
   "metadata": {},
   "source": [
    "# Evaluation 2: with manually analyzed projects"
   ]
  },
  {
   "cell_type": "code",
   "execution_count": null,
   "metadata": {},
   "outputs": [],
   "source": []
  }
 ],
 "metadata": {
  "kernelspec": {
   "display_name": "Python 3",
   "language": "python",
   "name": "python3"
  },
  "language_info": {
   "codemirror_mode": {
    "name": "ipython",
    "version": 3
   },
   "file_extension": ".py",
   "mimetype": "text/x-python",
   "name": "python",
   "nbconvert_exporter": "python",
   "pygments_lexer": "ipython3",
   "version": "3.7.3"
  }
 },
 "nbformat": 4,
 "nbformat_minor": 4
}
